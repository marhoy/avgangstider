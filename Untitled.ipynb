{
 "cells": [
  {
   "cell_type": "code",
   "execution_count": 1,
   "metadata": {
    "ExecuteTime": {
     "end_time": "2019-03-26T17:28:54.153347Z",
     "start_time": "2019-03-26T17:28:54.093398Z"
    }
   },
   "outputs": [],
   "source": [
    "%load_ext autoreload\n",
    "%autoreload 2"
   ]
  },
  {
   "cell_type": "code",
   "execution_count": 2,
   "metadata": {},
   "outputs": [],
   "source": [
    "import rutertider"
   ]
  },
  {
   "cell_type": "code",
   "execution_count": null,
   "metadata": {},
   "outputs": [],
   "source": [
    "rutertider.get_departures(\"NSR:StopPlace:5968\")"
   ]
  },
  {
   "cell_type": "code",
   "execution_count": null,
   "metadata": {},
   "outputs": [],
   "source": [
    "rutertider.get_departures(\"NSR:StopPlace:59516\", max_departures=10, line_ids=['RUT:Line:21'])"
   ]
  },
  {
   "cell_type": "code",
   "execution_count": null,
   "metadata": {},
   "outputs": [],
   "source": [
    "rutertider.get_departures(stop_id=\"NSR:StopPlace:5968\",\n",
    "                                           platforms=['NSR:Quay:10949'])"
   ]
  },
  {
   "cell_type": "code",
   "execution_count": null,
   "metadata": {},
   "outputs": [],
   "source": [
    "rutertider.get_departures(\"NSR:StopPlace:59516\", lines=[\"RUT:Line:21\", \"RUT:Line:3\"], max_departures=50)"
   ]
  },
  {
   "cell_type": "code",
   "execution_count": null,
   "metadata": {},
   "outputs": [],
   "source": [
    "rutertider.logging.getLogger().setLevel(20)\n",
    "rutertider.get_situations(\"RUT:Line:11\")"
   ]
  },
  {
   "cell_type": "code",
   "execution_count": 3,
   "metadata": {},
   "outputs": [
    {
     "data": {
      "text/plain": [
       "{'data': {'line': {'id': 'RUT:Line:11',\n",
       "   'publicCode': '11',\n",
       "   'transportMode': 'tram',\n",
       "   'presentation': {'colour': '0B91EF', 'textColour': 'FFFFFF'},\n",
       "   'situations': [{'summary': [{'value': 'Innstilt mellom Jernbanetorget og Majorstuen',\n",
       "       'language': 'no'},\n",
       "      {'value': 'Suspended between Jernbanetorget and Majorstuen',\n",
       "       'language': 'en'}],\n",
       "     'description': [{'value': 'Trikk 11 er innstilt mellom Jernbanetorget og Majorstuen på grunn av Oslo maraton.',\n",
       "       'language': 'no'},\n",
       "      {'value': 'Tram 11 is suspended from Jernbanetorget to Majorstuen due to Oslo maraton.',\n",
       "       'language': 'en'}],\n",
       "     'advice': [{'value': 'Stopper ikke på Stortorvet, Tinghuset, Holbergs plass, Frydenlund, Welhavens gate, Homansbyen, Bogstadveien, Majorstuen. På Jernbanetorget stopper linje 11 ved plf. B og C.',\n",
       "       'language': 'no'},\n",
       "      {'value': 'Not stopping at Stortorvet, Tinghuset, Holbergs plass, Frydenlund, Welhavens gate, Homansbyen, Bogstadveien, Majorstuen. At Jernbanetorget, line 11 stops at plf. B and C.',\n",
       "       'language': 'en'}],\n",
       "     'validityPeriod': {'startTime': '2019-09-21T05:00:00+0200',\n",
       "      'endTime': '2019-09-21T21:00:00+0200'}}]}}}"
      ]
     },
     "execution_count": 3,
     "metadata": {},
     "output_type": "execute_result"
    }
   ],
   "source": [
    "import rutertider.entur_query\n",
    "query = rutertider.entur_query.create_situation_query(\"RUT:Line:11\")\n",
    "response = rutertider.entur_query.journey_planner_api(query)\n",
    "js = response.json()\n",
    "js"
   ]
  },
  {
   "cell_type": "code",
   "execution_count": null,
   "metadata": {},
   "outputs": [],
   "source": [
    "import json"
   ]
  },
  {
   "cell_type": "code",
   "execution_count": null,
   "metadata": {},
   "outputs": [],
   "source": []
  },
  {
   "cell_type": "code",
   "execution_count": null,
   "metadata": {},
   "outputs": [],
   "source": [
    "with open(\"situation.json\", \"w\") as file:\n",
    "    json.dump(js, file)"
   ]
  },
  {
   "cell_type": "code",
   "execution_count": null,
   "metadata": {},
   "outputs": [],
   "source": [
    "g = rutertider.flask_app._situation_generator([\"RUT:Line:3\"])"
   ]
  },
  {
   "cell_type": "code",
   "execution_count": null,
   "metadata": {},
   "outputs": [],
   "source": [
    "next(g)"
   ]
  },
  {
   "cell_type": "code",
   "execution_count": null,
   "metadata": {},
   "outputs": [],
   "source": [
    "if []:\n",
    "    print('Yes')"
   ]
  },
  {
   "cell_type": "code",
   "execution_count": null,
   "metadata": {},
   "outputs": [],
   "source": [
    "for line in range(499, 1000):\n",
    "    print(\"Running for line {}\".format(line))\n",
    "    sits = rutertider.get_situations(\"RUT:Line:{}\".format(line))\n",
    "    if sits:\n",
    "        print(sits[0].summary)\n",
    "    if len(sits) > 1:\n",
    "        break"
   ]
  },
  {
   "cell_type": "code",
   "execution_count": null,
   "metadata": {},
   "outputs": [],
   "source": [
    "sits"
   ]
  },
  {
   "cell_type": "code",
   "execution_count": null,
   "metadata": {},
   "outputs": [],
   "source": [
    "from rutertider import entur_query\n",
    "query = entur_query.create_situation_query(\"RUT:Line:19\")\n",
    "response = entur_query.journey_planner_api(query)\n",
    "response.json()"
   ]
  },
  {
   "cell_type": "code",
   "execution_count": null,
   "metadata": {},
   "outputs": [],
   "source": [
    "import json"
   ]
  },
  {
   "cell_type": "code",
   "execution_count": null,
   "metadata": {},
   "outputs": [],
   "source": [
    "response.json()"
   ]
  },
  {
   "cell_type": "code",
   "execution_count": null,
   "metadata": {},
   "outputs": [],
   "source": [
    "sit = response.json()['data']['line']['situations'][0]"
   ]
  },
  {
   "cell_type": "code",
   "execution_count": null,
   "metadata": {},
   "outputs": [],
   "source": [
    "sit['summary']"
   ]
  },
  {
   "cell_type": "code",
   "execution_count": null,
   "metadata": {},
   "outputs": [],
   "source": [
    "from datetime import datetimea"
   ]
  },
  {
   "cell_type": "code",
   "execution_count": null,
   "metadata": {},
   "outputs": [],
   "source": [
    "class FixedDateTime:\n",
    "    def __init__(self, iso_string):\n",
    "        self.timestamp = datetime.fromisoformat(iso_string)\n",
    "\n",
    "    def now(self, tz=None):\n",
    "        return self.timestamp\n",
    "\n",
    "    @staticmethod\n",
    "    def fromisoformat(string):\n",
    "        return datetime.fromisoformat(string)"
   ]
  },
  {
   "cell_type": "code",
   "execution_count": null,
   "metadata": {},
   "outputs": [],
   "source": [
    "import rutertider.utils"
   ]
  },
  {
   "cell_type": "code",
   "execution_count": null,
   "metadata": {},
   "outputs": [],
   "source": [
    "rutertider.utils.datetime = FixedDateTime('2019-01-01T12:00:00+01:00')"
   ]
  },
  {
   "cell_type": "code",
   "execution_count": null,
   "metadata": {},
   "outputs": [],
   "source": [
    "rutertider.utils.format_departure_string('2019-01-01T12:31:00+01:00')"
   ]
  },
  {
   "cell_type": "code",
   "execution_count": null,
   "metadata": {},
   "outputs": [],
   "source": [
    "s = '2019-01-01T12:31:00+01:00'\n",
    "import re"
   ]
  },
  {
   "cell_type": "code",
   "execution_count": null,
   "metadata": {},
   "outputs": [],
   "source": [
    "re.sub(r'(\\d{2,})(\\d{2,})$', r'\\1:\\2', s)"
   ]
  },
  {
   "cell_type": "code",
   "execution_count": null,
   "metadata": {},
   "outputs": [],
   "source": [
    "dt1 = FixedDateTime('2019-01-01T12:00:00+01:00')\n"
   ]
  },
  {
   "cell_type": "code",
   "execution_count": null,
   "metadata": {},
   "outputs": [],
   "source": [
    "ts = datetime.fromisoformat('2019-01-01T12:00:00+02:00')"
   ]
  },
  {
   "cell_type": "code",
   "execution_count": null,
   "metadata": {},
   "outputs": [],
   "source": [
    "dt1.now(tz=ts.tzinfo)"
   ]
  },
  {
   "cell_type": "code",
   "execution_count": null,
   "metadata": {},
   "outputs": [],
   "source": []
  },
  {
   "cell_type": "code",
   "execution_count": null,
   "metadata": {
    "ExecuteTime": {
     "end_time": "2019-03-26T17:28:55.945051Z",
     "start_time": "2019-03-26T17:28:55.912898Z"
    }
   },
   "outputs": [],
   "source": [
    "from rutertider import entur_api\n",
    "import rutertider"
   ]
  },
  {
   "cell_type": "code",
   "execution_count": null,
   "metadata": {},
   "outputs": [],
   "source": [
    "entur_api.get_situations()"
   ]
  },
  {
   "cell_type": "code",
   "execution_count": null,
   "metadata": {},
   "outputs": [],
   "source": []
  },
  {
   "cell_type": "code",
   "execution_count": null,
   "metadata": {},
   "outputs": [],
   "source": []
  },
  {
   "cell_type": "code",
   "execution_count": null,
   "metadata": {},
   "outputs": [],
   "source": []
  }
 ],
 "metadata": {
  "kernelspec": {
   "display_name": "Python 3",
   "language": "python",
   "name": "python3"
  },
  "language_info": {
   "codemirror_mode": {
    "name": "ipython",
    "version": 3
   },
   "file_extension": ".py",
   "mimetype": "text/x-python",
   "name": "python",
   "nbconvert_exporter": "python",
   "pygments_lexer": "ipython3",
   "version": "3.7.4"
  },
  "toc": {
   "base_numbering": 1,
   "nav_menu": {},
   "number_sections": true,
   "sideBar": true,
   "skip_h1_title": false,
   "title_cell": "Table of Contents",
   "title_sidebar": "Contents",
   "toc_cell": false,
   "toc_position": {},
   "toc_section_display": true,
   "toc_window_display": false
  }
 },
 "nbformat": 4,
 "nbformat_minor": 2
}
