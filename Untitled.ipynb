{
 "cells": [
  {
   "cell_type": "code",
   "execution_count": 1,
   "metadata": {
    "ExecuteTime": {
     "end_time": "2019-03-26T17:28:54.153347Z",
     "start_time": "2019-03-26T17:28:54.093398Z"
    }
   },
   "outputs": [],
   "source": [
    "%load_ext autoreload\n",
    "%autoreload 2"
   ]
  },
  {
   "cell_type": "code",
   "execution_count": 2,
   "metadata": {},
   "outputs": [],
   "source": [
    "import rutertider"
   ]
  },
  {
   "cell_type": "markdown",
   "metadata": {},
   "source": [
    "# Departures"
   ]
  },
  {
   "cell_type": "code",
   "execution_count": null,
   "metadata": {},
   "outputs": [],
   "source": [
    "rutertider.get_departures(\"NSR:StopPlace:5968\",  max_departures=10, platforms=['NSR:Quay:10949'])"
   ]
  },
  {
   "cell_type": "code",
   "execution_count": null,
   "metadata": {},
   "outputs": [],
   "source": [
    "rutertider.get_departures(\"NSR:StopPlace:59516\", max_departures=10, line_ids=['RUT:Line:21'])"
   ]
  },
  {
   "cell_type": "code",
   "execution_count": null,
   "metadata": {},
   "outputs": [],
   "source": [
    "rutertider.get_departures(stop_id=\"NSR:StopPlace:5968\", platforms=['NSR:Quay:10949'])"
   ]
  },
  {
   "cell_type": "code",
   "execution_count": null,
   "metadata": {},
   "outputs": [],
   "source": [
    "rutertider.get_departures(\"NSR:StopPlace:59516\", max_departures=10)"
   ]
  },
  {
   "cell_type": "code",
   "execution_count": null,
   "metadata": {},
   "outputs": [],
   "source": [
    "rutertider.get_departures(\"NSR:StopPlace:59516\", line_ids=[\"RUT:Line:21\", \"RUT:Line:3\"], max_departures=20, platforms=['NSR:Quay:11134'])"
   ]
  },
  {
   "cell_type": "code",
   "execution_count": null,
   "metadata": {},
   "outputs": [],
   "source": [
    "import rutertider.entur_query\n",
    "query = rutertider.entur_query.create_departure_query_whitelist(\n",
    "    stop_id=\"NSR:StopPlace:59516\",\n",
    "    line_ids=[\"RUT:Line:1\", \"RUT:Line:2\", \"RUT:Line:3\"],\n",
    "    max_departures=10\n",
    ")\n",
    "                                                               )\n",
    "response = rutertider.entur_query.journey_planner_api(query)\n",
    "response.json()"
   ]
  },
  {
   "cell_type": "markdown",
   "metadata": {},
   "source": [
    "# Situations"
   ]
  },
  {
   "cell_type": "code",
   "execution_count": 6,
   "metadata": {},
   "outputs": [
    {
     "data": {
      "text/plain": [
       "[Situation(line_id='RUT:Line:11', line_name='11', transport_mode='tram', bg_color='0B91EF', fg_color='FFFFFF', summary='Innstilt mellom Jernbanetorget og Majorstuen'),\n",
       " Situation(line_id='RUT:Line:12', line_name='12', transport_mode='tram', bg_color='0B91EF', fg_color='FFFFFF', summary='Innstilt mellom Jernbanetorget og Majorstuen'),\n",
       " Situation(line_id='RUT:Line:13', line_name='13', transport_mode='tram', bg_color='0B91EF', fg_color='FFFFFF', summary='Innstilt mellom Skøyen og Jernbanetorget'),\n",
       " Situation(line_id='RUT:Line:17', line_name='17', transport_mode='tram', bg_color='0B91EF', fg_color='FFFFFF', summary='Innstilt mellom Jernbanetorget og Holbergs plass'),\n",
       " Situation(line_id='RUT:Line:19', line_name='19', transport_mode='tram', bg_color='0B91EF', fg_color='FFFFFF', summary='Innstilt mellom Jernbanetorget og Majorstuen'),\n",
       " Situation(line_id='RUT:Line:35', line_name='35', transport_mode='bus', bg_color='E60000', fg_color='FFFFFF', summary='Innstilt ut september')]"
      ]
     },
     "execution_count": 6,
     "metadata": {},
     "output_type": "execute_result"
    }
   ],
   "source": [
    "rutertider.get_situations([\"RUT:Line:1\", \"RUT:Line:11\", \"RUT:Line:12\", \"RUT:Line:13\", \"RUT:Line:17\", \"RUT:Line:19\", \"RUT:Line:35\"])"
   ]
  },
  {
   "cell_type": "code",
   "execution_count": 7,
   "metadata": {},
   "outputs": [],
   "source": [
    "import rutertider.entur_query\n",
    "query = rutertider.entur_query.create_situation_query([])\n",
    "response = rutertider.entur_query.journey_planner_api(query)\n",
    "j = response.json()"
   ]
  },
  {
   "cell_type": "code",
   "execution_count": 10,
   "metadata": {},
   "outputs": [
    {
     "data": {
      "text/plain": [
       "NoneType"
      ]
     },
     "execution_count": 10,
     "metadata": {},
     "output_type": "execute_result"
    }
   ],
   "source": [
    "type(j.get('data'))"
   ]
  },
  {
   "cell_type": "code",
   "execution_count": null,
   "metadata": {},
   "outputs": [],
   "source": [
    "for line in response.json()['data']['lines']:\n",
    "    print(\"Line: \", line)"
   ]
  },
  {
   "cell_type": "markdown",
   "metadata": {},
   "source": [
    "# Save departures to a file"
   ]
  },
  {
   "cell_type": "code",
   "execution_count": null,
   "metadata": {},
   "outputs": [],
   "source": [
    "import json\n",
    "import pickle\n",
    "import datetime\n",
    "\n",
    "from rutertider.entur_query import (create_departure_query,\n",
    "                                    create_departure_query_whitelist,\n",
    "                                    create_situation_query,\n",
    "                                    journey_planner_api)"
   ]
  },
  {
   "cell_type": "code",
   "execution_count": null,
   "metadata": {},
   "outputs": [],
   "source": [
    "# Get the raw json-data\n",
    "query = create_departure_query_whitelist(\n",
    "    stop_id='NSR:StopPlace:58366',\n",
    "    line_ids=['RUT:Line:1', 'RUT:Line:21', 'RUT:Line:35'],\n",
    "    max_departures=10\n",
    ")\n",
    "response = journey_planner_api(query)\n",
    "response.json()\n",
    "\n",
    "# Get processed data\n",
    "departures = rutertider.get_departures(\n",
    "    stop_id='NSR:StopPlace:58366',\n",
    "    line_ids=['RUT:Line:1', 'RUT:Line:21', 'RUT:Line:35'],\n",
    "    max_departures=10\n",
    ")\n",
    "\n",
    "# Get the current datetime\n",
    "now = datetime.datetime.now().isoformat()"
   ]
  },
  {
   "cell_type": "code",
   "execution_count": null,
   "metadata": {},
   "outputs": [],
   "source": [
    "now.isoformat()"
   ]
  },
  {
   "cell_type": "code",
   "execution_count": null,
   "metadata": {},
   "outputs": [],
   "source": [
    "with open(\"departures.json\", \"w\") as file:\n",
    "    json.dump(response.json(), file)\n",
    "    \n",
    "with open(\"departures.pkl\", \"wb\") as file:\n",
    "    pickle.dump(departures)\n",
    "    \n"
   ]
  },
  {
   "cell_type": "code",
   "execution_count": null,
   "metadata": {},
   "outputs": [],
   "source": [
    "response.json()['data']['stopPlace']['estimatedCalls'][0]['serviceJourney']['line']['id']"
   ]
  },
  {
   "cell_type": "code",
   "execution_count": null,
   "metadata": {},
   "outputs": [],
   "source": []
  },
  {
   "cell_type": "markdown",
   "metadata": {},
   "source": [
    "# Save situation json to file"
   ]
  },
  {
   "cell_type": "code",
   "execution_count": null,
   "metadata": {},
   "outputs": [],
   "source": [
    "import rutertider.entur_query\n",
    "query = rutertider.entur_query.create_situation_query([\"RUT:Line:1\", \"RUT:Line:35\"])\n",
    "response = rutertider.entur_query.journey_planner_api(query)\n",
    "response.json()"
   ]
  },
  {
   "cell_type": "code",
   "execution_count": null,
   "metadata": {},
   "outputs": [],
   "source": [
    "import json\n",
    "\n",
    "with open(\"situations.json\", \"w\") as file:\n",
    "    json.dump(response.json(), file)"
   ]
  },
  {
   "cell_type": "code",
   "execution_count": null,
   "metadata": {},
   "outputs": [],
   "source": [
    "import pickle\n",
    "\n",
    "with open(\"situations.pkl\", \"wb\") as file: \n",
    "    pickle.dump(rutertider.get_situations([\"RUT:Line:1\", \"RUT:Line:35\"]), file)"
   ]
  },
  {
   "cell_type": "code",
   "execution_count": null,
   "metadata": {},
   "outputs": [],
   "source": [
    "for line in range(1, 500):\n",
    "    print(\"Running for line {}\".format(line))\n",
    "    sits = rutertider.get_situations(\"RUT:Line:{}\".format(line))\n",
    "    if sits:\n",
    "        print(sits[0].summary)\n",
    "    if len(sits) > 1:\n",
    "        break"
   ]
  },
  {
   "cell_type": "code",
   "execution_count": null,
   "metadata": {},
   "outputs": [],
   "source": [
    "lines = [\"RUT:Line:1\", \"RUT:Line:3\"]"
   ]
  },
  {
   "cell_type": "code",
   "execution_count": null,
   "metadata": {},
   "outputs": [],
   "source": [
    "str(lines).replace(\"'\",'\"')"
   ]
  },
  {
   "cell_type": "code",
   "execution_count": null,
   "metadata": {},
   "outputs": [],
   "source": []
  }
 ],
 "metadata": {
  "kernelspec": {
   "display_name": "Python 3",
   "language": "python",
   "name": "python3"
  },
  "language_info": {
   "codemirror_mode": {
    "name": "ipython",
    "version": 3
   },
   "file_extension": ".py",
   "mimetype": "text/x-python",
   "name": "python",
   "nbconvert_exporter": "python",
   "pygments_lexer": "ipython3",
   "version": "3.7.4"
  },
  "toc": {
   "base_numbering": 1,
   "nav_menu": {},
   "number_sections": true,
   "sideBar": true,
   "skip_h1_title": false,
   "title_cell": "Table of Contents",
   "title_sidebar": "Contents",
   "toc_cell": false,
   "toc_position": {},
   "toc_section_display": true,
   "toc_window_display": false
  }
 },
 "nbformat": 4,
 "nbformat_minor": 2
}
