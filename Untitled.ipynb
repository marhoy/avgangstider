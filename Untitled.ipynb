{
 "cells": [
  {
   "cell_type": "code",
   "execution_count": 1,
   "metadata": {
    "ExecuteTime": {
     "end_time": "2019-03-26T17:28:54.153347Z",
     "start_time": "2019-03-26T17:28:54.093398Z"
    }
   },
   "outputs": [],
   "source": [
    "%load_ext autoreload\n",
    "%autoreload 2"
   ]
  },
  {
   "cell_type": "code",
   "execution_count": 2,
   "metadata": {},
   "outputs": [],
   "source": [
    "import rutertider"
   ]
  },
  {
   "cell_type": "markdown",
   "metadata": {},
   "source": [
    "# Departures"
   ]
  },
  {
   "cell_type": "code",
   "execution_count": 19,
   "metadata": {},
   "outputs": [
    {
     "data": {
      "text/plain": [
       "[Departure(line_id='RUT:Line:3', line_name='3', destination='Kolsås', platform='NSR:Quay:10949', departure_time='11 min', bg_color='EC700C', fg_color='FFFFFF'),\n",
       " Departure(line_id='RUT:Line:3', line_name='3', destination='Kolsås', platform='NSR:Quay:10949', departure_time='26 min', bg_color='EC700C', fg_color='FFFFFF'),\n",
       " Departure(line_id='RUT:Line:3', line_name='3', destination='Kolsås', platform='NSR:Quay:10949', departure_time='21:44', bg_color='EC700C', fg_color='FFFFFF'),\n",
       " Departure(line_id='RUT:Line:3', line_name='3', destination='Kolsås', platform='NSR:Quay:10949', departure_time='21:59', bg_color='EC700C', fg_color='FFFFFF'),\n",
       " Departure(line_id='RUT:Line:3', line_name='3', destination='Kolsås', platform='NSR:Quay:10949', departure_time='22:15', bg_color='EC700C', fg_color='FFFFFF')]"
      ]
     },
     "execution_count": 19,
     "metadata": {},
     "output_type": "execute_result"
    }
   ],
   "source": [
    "rutertider.get_departures(\"NSR:StopPlace:5968\",  max_departures=10, platforms=['NSR:Quay:10949'])"
   ]
  },
  {
   "cell_type": "code",
   "execution_count": 21,
   "metadata": {},
   "outputs": [
    {
     "data": {
      "text/plain": [
       "[Departure(line_id='RUT:Line:21', line_name='21', destination='Tjuvholmen', platform='NSR:Quay:11148', departure_time='6 min', bg_color='E60000', fg_color='FFFFFF'),\n",
       " Departure(line_id='RUT:Line:21', line_name='21', destination='Helsfyr T', platform='NSR:Quay:11140', departure_time='7 min', bg_color='E60000', fg_color='FFFFFF'),\n",
       " Departure(line_id='RUT:Line:21', line_name='21', destination='Tjuvholmen', platform='NSR:Quay:11148', departure_time='16 min', bg_color='E60000', fg_color='FFFFFF'),\n",
       " Departure(line_id='RUT:Line:21', line_name='21', destination='Helsfyr T', platform='NSR:Quay:11140', departure_time='17 min', bg_color='E60000', fg_color='FFFFFF'),\n",
       " Departure(line_id='RUT:Line:21', line_name='21', destination='Tjuvholmen', platform='NSR:Quay:11148', departure_time='26 min', bg_color='E60000', fg_color='FFFFFF'),\n",
       " Departure(line_id='RUT:Line:21', line_name='21', destination='Helsfyr T', platform='NSR:Quay:11140', departure_time='26 min', bg_color='E60000', fg_color='FFFFFF'),\n",
       " Departure(line_id='RUT:Line:21', line_name='21', destination='Tjuvholmen', platform='NSR:Quay:11148', departure_time='21:44', bg_color='E60000', fg_color='FFFFFF'),\n",
       " Departure(line_id='RUT:Line:21', line_name='21', destination='Helsfyr T', platform='NSR:Quay:11140', departure_time='21:44', bg_color='E60000', fg_color='FFFFFF'),\n",
       " Departure(line_id='RUT:Line:21', line_name='21', destination='Tjuvholmen', platform='NSR:Quay:11148', departure_time='21:54', bg_color='E60000', fg_color='FFFFFF'),\n",
       " Departure(line_id='RUT:Line:21', line_name='21', destination='Helsfyr T', platform='NSR:Quay:11140', departure_time='21:54', bg_color='E60000', fg_color='FFFFFF')]"
      ]
     },
     "execution_count": 21,
     "metadata": {},
     "output_type": "execute_result"
    }
   ],
   "source": [
    "rutertider.get_departures(\"NSR:StopPlace:59516\", max_departures=10, line_ids=['RUT:Line:21'])"
   ]
  },
  {
   "cell_type": "code",
   "execution_count": null,
   "metadata": {},
   "outputs": [],
   "source": [
    "rutertider.get_departures(stop_id=\"NSR:StopPlace:5968\", platforms=['NSR:Quay:10949'])"
   ]
  },
  {
   "cell_type": "code",
   "execution_count": 7,
   "metadata": {},
   "outputs": [
    {
     "data": {
      "text/plain": [
       "[Departure(line_id='RUT:Line:100', line_name='100', destination='Oslo bussterminal', platform='NSR:Quay:11131', departure_time='nå', bg_color='E60000', fg_color='FFFFFF'),\n",
       " Departure(line_id='RUT:Line:300', line_name='300', destination='Blystadlia', platform='NSR:Quay:11142', departure_time='nå', bg_color='E60000', fg_color='FFFFFF'),\n",
       " Departure(line_id='RUT:Line:1', line_name='1', destination='Helsfyr', platform='NSR:Quay:11134', departure_time='1 min', bg_color='EC700C', fg_color='FFFFFF'),\n",
       " Departure(line_id='RUT:Line:21', line_name='21', destination='Tjuvholmen', platform='NSR:Quay:11148', departure_time='4 min', bg_color='E60000', fg_color='FFFFFF'),\n",
       " Departure(line_id='RUT:Line:110', line_name='110', destination='Lillestrøm', platform='NSR:Quay:11142', departure_time='4 min', bg_color='E60000', fg_color='FFFFFF'),\n",
       " Departure(line_id='RUT:Line:37', line_name='37', destination='Nydalen T', platform='NSR:Quay:11154', departure_time='5 min', bg_color='E60000', fg_color='FFFFFF'),\n",
       " Departure(line_id='RUT:Line:37', line_name='37', destination='Helsfyr', platform='NSR:Quay:11152', departure_time='5 min', bg_color='E60000', fg_color='FFFFFF'),\n",
       " Departure(line_id='RUT:Line:1', line_name='1', destination='Frognerseteren', platform='NSR:Quay:11135', departure_time='5 min', bg_color='EC700C', fg_color='FFFFFF'),\n",
       " Departure(line_id='RUT:Line:110', line_name='110', destination='Oslo bussterminal', platform='NSR:Quay:11131', departure_time='6 min', bg_color='E60000', fg_color='FFFFFF'),\n",
       " Departure(line_id='RUT:Line:2', line_name='2', destination='Ellingsrudåsen', platform='NSR:Quay:11134', departure_time='6 min', bg_color='EC700C', fg_color='FFFFFF')]"
      ]
     },
     "execution_count": 7,
     "metadata": {},
     "output_type": "execute_result"
    }
   ],
   "source": [
    "rutertider.get_departures(\"NSR:StopPlace:59516\", max_departures=10)"
   ]
  },
  {
   "cell_type": "code",
   "execution_count": 12,
   "metadata": {},
   "outputs": [
    {
     "data": {
      "text/plain": [
       "[Departure(line_id='RUT:Line:3', line_name='3', destination='Mortensrud', platform='NSR:Quay:11134', departure_time='11 min', bg_color='EC700C', fg_color='FFFFFF'),\n",
       " Departure(line_id='RUT:Line:3', line_name='3', destination='Mortensrud', platform='NSR:Quay:11134', departure_time='22 min', bg_color='EC700C', fg_color='FFFFFF'),\n",
       " Departure(line_id='RUT:Line:3', line_name='3', destination='Mortensrud', platform='NSR:Quay:11134', departure_time='21:37', bg_color='EC700C', fg_color='FFFFFF'),\n",
       " Departure(line_id='RUT:Line:3', line_name='3', destination='Mortensrud', platform='NSR:Quay:11134', departure_time='21:52', bg_color='EC700C', fg_color='FFFFFF')]"
      ]
     },
     "execution_count": 12,
     "metadata": {},
     "output_type": "execute_result"
    }
   ],
   "source": [
    "rutertider.get_departures(\"NSR:StopPlace:59516\", line_ids=[\"RUT:Line:21\", \"RUT:Line:3\"], max_departures=20, platforms=['NSR:Quay:11134'])"
   ]
  },
  {
   "cell_type": "code",
   "execution_count": null,
   "metadata": {},
   "outputs": [],
   "source": [
    "import rutertider.entur_query\n",
    "query = rutertider.entur_query.create_departure_query_whitelist(\"NSR:StopPlace:59516\", line_ids=[\"RUT:Line:21\", \"RUT:Line:3\"])\n",
    "response = rutertider.entur_query.journey_planner_api(query)\n",
    "response.json()"
   ]
  },
  {
   "cell_type": "markdown",
   "metadata": {},
   "source": [
    "# Situations"
   ]
  },
  {
   "cell_type": "code",
   "execution_count": null,
   "metadata": {},
   "outputs": [],
   "source": [
    "# rutertider.logging.getLogger().setLevel(20)\n",
    "rutertider.get_situations(\"RUT:Line:1\")"
   ]
  },
  {
   "cell_type": "markdown",
   "metadata": {},
   "source": [
    "# Save situation json to file"
   ]
  },
  {
   "cell_type": "code",
   "execution_count": null,
   "metadata": {},
   "outputs": [],
   "source": [
    "import rutertider.entur_query\n",
    "query = rutertider.entur_query.create_situation_query(\"RUT:Line:60\")\n",
    "response = rutertider.entur_query.journey_planner_api(query)\n",
    "response.json()"
   ]
  },
  {
   "cell_type": "code",
   "execution_count": null,
   "metadata": {},
   "outputs": [],
   "source": [
    "import json\n",
    "\n",
    "with open(\"situation.json\", \"w\") as file:\n",
    "    json.dump(response.json(), file)"
   ]
  },
  {
   "cell_type": "code",
   "execution_count": null,
   "metadata": {},
   "outputs": [],
   "source": [
    "for line in range(1, 500):\n",
    "    print(\"Running for line {}\".format(line))\n",
    "    sits = rutertider.get_situations(\"RUT:Line:{}\".format(line))\n",
    "    if sits:\n",
    "        print(sits[0].summary)\n",
    "    if len(sits) > 1:\n",
    "        break"
   ]
  },
  {
   "cell_type": "code",
   "execution_count": null,
   "metadata": {},
   "outputs": [],
   "source": [
    "lines = [\"RUT:Line:1\", \"RUT:Line:3\"]"
   ]
  },
  {
   "cell_type": "code",
   "execution_count": null,
   "metadata": {},
   "outputs": [],
   "source": [
    "str(lines).replace(\"'\",'\"')"
   ]
  },
  {
   "cell_type": "code",
   "execution_count": null,
   "metadata": {},
   "outputs": [],
   "source": []
  }
 ],
 "metadata": {
  "kernelspec": {
   "display_name": "Python 3",
   "language": "python",
   "name": "python3"
  },
  "language_info": {
   "codemirror_mode": {
    "name": "ipython",
    "version": 3
   },
   "file_extension": ".py",
   "mimetype": "text/x-python",
   "name": "python",
   "nbconvert_exporter": "python",
   "pygments_lexer": "ipython3",
   "version": "3.7.4"
  },
  "toc": {
   "base_numbering": 1,
   "nav_menu": {},
   "number_sections": true,
   "sideBar": true,
   "skip_h1_title": false,
   "title_cell": "Table of Contents",
   "title_sidebar": "Contents",
   "toc_cell": false,
   "toc_position": {},
   "toc_section_display": true,
   "toc_window_display": false
  }
 },
 "nbformat": 4,
 "nbformat_minor": 2
}
