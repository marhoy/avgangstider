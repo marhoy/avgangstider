{
 "cells": [
  {
   "cell_type": "code",
   "execution_count": 27,
   "metadata": {
    "ExecuteTime": {
     "end_time": "2019-03-26T17:28:54.153347Z",
     "start_time": "2019-03-26T17:28:54.093398Z"
    }
   },
   "outputs": [
    {
     "name": "stdout",
     "output_type": "stream",
     "text": [
      "The autoreload extension is already loaded. To reload it, use:\n",
      "  %reload_ext autoreload\n"
     ]
    }
   ],
   "source": [
    "%load_ext autoreload\n",
    "%autoreload 2"
   ]
  },
  {
   "cell_type": "code",
   "execution_count": 28,
   "metadata": {},
   "outputs": [],
   "source": [
    "import avgangstider"
   ]
  },
  {
   "cell_type": "markdown",
   "metadata": {},
   "source": [
    "# Departures"
   ]
  },
  {
   "cell_type": "code",
   "execution_count": 29,
   "metadata": {},
   "outputs": [],
   "source": [
    "from avgangstider.classes import Departure"
   ]
  },
  {
   "cell_type": "code",
   "execution_count": 31,
   "metadata": {},
   "outputs": [
    {
     "ename": "TypeError",
     "evalue": "__init__() missing 6 required positional arguments: 'line_name', 'destination', 'platform', 'departure_datetime', 'bg_color', and 'fg_color'",
     "output_type": "error",
     "traceback": [
      "\u001b[0;31m---------------------------------------------------------------------------\u001b[0m",
      "\u001b[0;31mTypeError\u001b[0m                                 Traceback (most recent call last)",
      "\u001b[0;32m<ipython-input-31-35a29846b66d>\u001b[0m in \u001b[0;36m<module>\u001b[0;34m\u001b[0m\n\u001b[0;32m----> 1\u001b[0;31m \u001b[0mDeparture\u001b[0m\u001b[0;34m(\u001b[0m\u001b[0mline_id\u001b[0m\u001b[0;34m=\u001b[0m\u001b[0;34m\"\"\u001b[0m\u001b[0;34m)\u001b[0m\u001b[0;34m\u001b[0m\u001b[0;34m\u001b[0m\u001b[0m\n\u001b[0m",
      "\u001b[0;31mTypeError\u001b[0m: __init__() missing 6 required positional arguments: 'line_name', 'destination', 'platform', 'departure_datetime', 'bg_color', and 'fg_color'"
     ]
    }
   ],
   "source": [
    "Departure(line_id=\"\")"
   ]
  },
  {
   "cell_type": "code",
   "execution_count": 24,
   "metadata": {},
   "outputs": [
    {
     "data": {
      "text/plain": [
       "[]"
      ]
     },
     "execution_count": 24,
     "metadata": {},
     "output_type": "execute_result"
    }
   ],
   "source": [
    "avgangstider.get_departures(\"Jalla\")"
   ]
  },
  {
   "cell_type": "code",
   "execution_count": 25,
   "metadata": {},
   "outputs": [
    {
     "data": {
      "text/plain": [
       "[Departure(line_id='RUT:Line:3', line_name='3', destination='Kolsås', platform='NSR:Quay:10949', departure_time='6 min', bg_color='EC700C', fg_color='FFFFFF'),\n",
       " Departure(line_id='RUT:Line:3', line_name='3', destination='Stortinget', platform='NSR:Quay:10949', departure_time='11 min', bg_color='EC700C', fg_color='FFFFFF'),\n",
       " Departure(line_id='RUT:Line:3', line_name='3', destination='Kolsås', platform='NSR:Quay:10949', departure_time='20 min', bg_color='EC700C', fg_color='FFFFFF'),\n",
       " Departure(line_id='RUT:Line:3', line_name='3', destination='Stortinget', platform='NSR:Quay:10949', departure_time='26 min', bg_color='EC700C', fg_color='FFFFFF'),\n",
       " Departure(line_id='RUT:Line:3', line_name='3', destination='Kolsås', platform='NSR:Quay:10949', departure_time='18:14', bg_color='EC700C', fg_color='FFFFFF')]"
      ]
     },
     "execution_count": 25,
     "metadata": {},
     "output_type": "execute_result"
    }
   ],
   "source": [
    "avgangstider.get_departures(\"NSR:StopPlace:5968\",  max_departures=10, platforms=['NSR:Quay:10949'])"
   ]
  },
  {
   "cell_type": "code",
   "execution_count": 4,
   "metadata": {},
   "outputs": [
    {
     "data": {
      "text/plain": [
       "[Departure(line_id='RUT:Line:21', line_name='21', destination='Helsfyr T', platform='NSR:Quay:11140', departure_time='nå', bg_color='E60000', fg_color='FFFFFF'),\n",
       " Departure(line_id='RUT:Line:21', line_name='21', destination='Alexander Kiellands plass', platform='NSR:Quay:11148', departure_time='2 min', bg_color='E60000', fg_color='FFFFFF'),\n",
       " Departure(line_id='RUT:Line:21', line_name='21', destination='Helsfyr T', platform='NSR:Quay:11140', departure_time='7 min', bg_color='E60000', fg_color='FFFFFF'),\n",
       " Departure(line_id='RUT:Line:21', line_name='21', destination='Helsfyr T', platform='NSR:Quay:11140', departure_time='8 min', bg_color='E60000', fg_color='FFFFFF'),\n",
       " Departure(line_id='RUT:Line:21', line_name='21', destination='Alexander Kiellands plass', platform='NSR:Quay:11148', departure_time='9 min', bg_color='E60000', fg_color='FFFFFF'),\n",
       " Departure(line_id='RUT:Line:21', line_name='21', destination='Helsfyr T', platform='NSR:Quay:11140', departure_time='13 min', bg_color='E60000', fg_color='FFFFFF'),\n",
       " Departure(line_id='RUT:Line:21', line_name='21', destination='Helsfyr T', platform='NSR:Quay:11140', departure_time='14 min', bg_color='E60000', fg_color='FFFFFF'),\n",
       " Departure(line_id='RUT:Line:21', line_name='21', destination='Alexander Kiellands plass', platform='NSR:Quay:11148', departure_time='17 min', bg_color='E60000', fg_color='FFFFFF'),\n",
       " Departure(line_id='RUT:Line:21', line_name='21', destination='Helsfyr T', platform='NSR:Quay:11140', departure_time='22 min', bg_color='E60000', fg_color='FFFFFF'),\n",
       " Departure(line_id='RUT:Line:21', line_name='21', destination='Alexander Kiellands plass', platform='NSR:Quay:11148', departure_time='24 min', bg_color='E60000', fg_color='FFFFFF')]"
      ]
     },
     "execution_count": 4,
     "metadata": {},
     "output_type": "execute_result"
    }
   ],
   "source": [
    "avgangstider.get_departures(\"NSR:StopPlace:59516\", max_departures=10, line_ids=['RUT:Line:21'])"
   ]
  },
  {
   "cell_type": "code",
   "execution_count": 5,
   "metadata": {},
   "outputs": [
    {
     "data": {
      "text/plain": [
       "[Departure(line_id='RUT:Line:3', line_name='3', destination='Stortinget', platform='NSR:Quay:10949', departure_time='3 min', bg_color='EC700C', fg_color='FFFFFF'),\n",
       " Departure(line_id='RUT:Line:3', line_name='3', destination='Kolsås', platform='NSR:Quay:10949', departure_time='13 min', bg_color='EC700C', fg_color='FFFFFF'),\n",
       " Departure(line_id='RUT:Line:3', line_name='3', destination='Stortinget', platform='NSR:Quay:10949', departure_time='19 min', bg_color='EC700C', fg_color='FFFFFF'),\n",
       " Departure(line_id='RUT:Line:3', line_name='3', destination='Kolsås', platform='NSR:Quay:10949', departure_time='28 min', bg_color='EC700C', fg_color='FFFFFF'),\n",
       " Departure(line_id='RUT:Line:3', line_name='3', destination='Stortinget', platform='NSR:Quay:10949', departure_time='13:05', bg_color='EC700C', fg_color='FFFFFF')]"
      ]
     },
     "execution_count": 5,
     "metadata": {},
     "output_type": "execute_result"
    }
   ],
   "source": [
    "avgangstider.get_departures(stop_id=\"NSR:StopPlace:5968\", platforms=['NSR:Quay:10949'])"
   ]
  },
  {
   "cell_type": "code",
   "execution_count": 6,
   "metadata": {},
   "outputs": [
    {
     "data": {
      "text/plain": [
       "[Departure(line_id='NBU:Line:26105', line_name='FB5', destination='Scandinavia Hotel via Bislett', platform='NSR:Quay:11131', departure_time='nå', bg_color='FFFFFF', fg_color='000000'),\n",
       " Departure(line_id='RUT:Line:400', line_name='400', destination='Oslo bussterminal', platform='NSR:Quay:11131', departure_time='nå', bg_color='76A300', fg_color='FFFFFF'),\n",
       " Departure(line_id='RUT:Line:400', line_name='400', destination='Oslo lufthavn', platform='NSR:Quay:11146', departure_time='nå', bg_color='76A300', fg_color='FFFFFF'),\n",
       " Departure(line_id='RUT:Line:21', line_name='21', destination='Helsfyr T', platform='NSR:Quay:11140', departure_time='nå', bg_color='E60000', fg_color='FFFFFF'),\n",
       " Departure(line_id='RUT:Line:3', line_name='3', destination='Mortensrud', platform='NSR:Quay:11134', departure_time='1 min', bg_color='EC700C', fg_color='FFFFFF'),\n",
       " Departure(line_id='RUT:Line:110', line_name='110', destination='Oslo bussterminal', platform='NSR:Quay:11131', departure_time='1 min', bg_color='E60000', fg_color='FFFFFF'),\n",
       " Departure(line_id='RUT:Line:37', line_name='37', destination='Helsfyr', platform='NSR:Quay:11152', departure_time='1 min', bg_color='E60000', fg_color='FFFFFF'),\n",
       " Departure(line_id='RUT:Line:2', line_name='2', destination='Stortinget', platform='NSR:Quay:11135', departure_time='2 min', bg_color='EC700C', fg_color='FFFFFF'),\n",
       " Departure(line_id='RUT:Line:110', line_name='110', destination='Lillestrøm', platform='NSR:Quay:11142', departure_time='2 min', bg_color='E60000', fg_color='FFFFFF'),\n",
       " Departure(line_id='RUT:Line:21', line_name='21', destination='Alexander Kiellands plass', platform='NSR:Quay:11148', departure_time='2 min', bg_color='E60000', fg_color='FFFFFF')]"
      ]
     },
     "execution_count": 6,
     "metadata": {},
     "output_type": "execute_result"
    }
   ],
   "source": [
    "avgangstider.get_departures(\"NSR:StopPlace:59516\", max_departures=10)"
   ]
  },
  {
   "cell_type": "code",
   "execution_count": 7,
   "metadata": {},
   "outputs": [
    {
     "data": {
      "text/plain": [
       "[Departure(line_id='RUT:Line:3', line_name='3', destination='Mortensrud', platform='NSR:Quay:11134', departure_time='1 min', bg_color='EC700C', fg_color='FFFFFF'),\n",
       " Departure(line_id='RUT:Line:3', line_name='3', destination='Mortensrud', platform='NSR:Quay:11134', departure_time='7 min', bg_color='EC700C', fg_color='FFFFFF'),\n",
       " Departure(line_id='RUT:Line:3', line_name='3', destination='Mortensrud', platform='NSR:Quay:11134', departure_time='14 min', bg_color='EC700C', fg_color='FFFFFF'),\n",
       " Departure(line_id='RUT:Line:3', line_name='3', destination='Mortensrud', platform='NSR:Quay:11134', departure_time='20 min', bg_color='EC700C', fg_color='FFFFFF'),\n",
       " Departure(line_id='RUT:Line:3', line_name='3', destination='Mortensrud', platform='NSR:Quay:11134', departure_time='29 min', bg_color='EC700C', fg_color='FFFFFF')]"
      ]
     },
     "execution_count": 7,
     "metadata": {},
     "output_type": "execute_result"
    }
   ],
   "source": [
    "avgangstider.get_departures(\"NSR:StopPlace:59516\", line_ids=[\"RUT:Line:21\", \"RUT:Line:3\"], max_departures=20, platforms=['NSR:Quay:11134'])"
   ]
  },
  {
   "cell_type": "code",
   "execution_count": 9,
   "metadata": {},
   "outputs": [
    {
     "data": {
      "text/plain": [
       "{'data': {'stopPlace': {'name': 'Helsfyr',\n",
       "   'estimatedCalls': [{'expectedArrivalTime': '2019-09-21T12:33:21+0200',\n",
       "     'expectedDepartureTime': '2019-09-21T12:33:21+0200',\n",
       "     'quay': {'id': 'NSR:Quay:11135', 'description': 'Retning sentrum'},\n",
       "     'destinationDisplay': {'frontText': 'Stortinget'},\n",
       "     'serviceJourney': {'line': {'id': 'RUT:Line:2',\n",
       "       'publicCode': '2',\n",
       "       'presentation': {'colour': 'EC700C', 'textColour': 'FFFFFF'}}}},\n",
       "    {'expectedArrivalTime': '2019-09-21T12:36:44+0200',\n",
       "     'expectedDepartureTime': '2019-09-21T12:36:44+0200',\n",
       "     'quay': {'id': 'NSR:Quay:11134', 'description': 'Retning øst'},\n",
       "     'destinationDisplay': {'frontText': 'Ellingsrudåsen'},\n",
       "     'serviceJourney': {'line': {'id': 'RUT:Line:2',\n",
       "       'publicCode': '2',\n",
       "       'presentation': {'colour': 'EC700C', 'textColour': 'FFFFFF'}}}},\n",
       "    {'expectedArrivalTime': '2019-09-21T12:38:11+0200',\n",
       "     'expectedDepartureTime': '2019-09-21T12:38:11+0200',\n",
       "     'quay': {'id': 'NSR:Quay:11135', 'description': 'Retning sentrum'},\n",
       "     'destinationDisplay': {'frontText': 'Kolsås'},\n",
       "     'serviceJourney': {'line': {'id': 'RUT:Line:3',\n",
       "       'publicCode': '3',\n",
       "       'presentation': {'colour': 'EC700C', 'textColour': 'FFFFFF'}}}},\n",
       "    {'expectedArrivalTime': '2019-09-21T12:39:45+0200',\n",
       "     'expectedDepartureTime': '2019-09-21T12:39:45+0200',\n",
       "     'quay': {'id': 'NSR:Quay:11134', 'description': 'Retning øst'},\n",
       "     'destinationDisplay': {'frontText': 'Mortensrud'},\n",
       "     'serviceJourney': {'line': {'id': 'RUT:Line:3',\n",
       "       'publicCode': '3',\n",
       "       'presentation': {'colour': 'EC700C', 'textColour': 'FFFFFF'}}}},\n",
       "    {'expectedArrivalTime': '2019-09-21T12:40:30+0200',\n",
       "     'expectedDepartureTime': '2019-09-21T12:40:30+0200',\n",
       "     'quay': {'id': 'NSR:Quay:11135', 'description': 'Retning sentrum'},\n",
       "     'destinationDisplay': {'frontText': 'Østerås'},\n",
       "     'serviceJourney': {'line': {'id': 'RUT:Line:2',\n",
       "       'publicCode': '2',\n",
       "       'presentation': {'colour': 'EC700C', 'textColour': 'FFFFFF'}}}},\n",
       "    {'expectedArrivalTime': '2019-09-21T12:42:30+0200',\n",
       "     'expectedDepartureTime': '2019-09-21T12:42:30+0200',\n",
       "     'quay': {'id': 'NSR:Quay:11135', 'description': 'Retning sentrum'},\n",
       "     'destinationDisplay': {'frontText': 'Stortinget'},\n",
       "     'serviceJourney': {'line': {'id': 'RUT:Line:3',\n",
       "       'publicCode': '3',\n",
       "       'presentation': {'colour': 'EC700C', 'textColour': 'FFFFFF'}}}},\n",
       "    {'expectedArrivalTime': '2019-09-21T12:42:46+0200',\n",
       "     'expectedDepartureTime': '2019-09-21T12:42:46+0200',\n",
       "     'quay': {'id': 'NSR:Quay:11134', 'description': 'Retning øst'},\n",
       "     'destinationDisplay': {'frontText': 'Bergkrystallen'},\n",
       "     'serviceJourney': {'line': {'id': 'RUT:Line:1',\n",
       "       'publicCode': '1',\n",
       "       'presentation': {'colour': 'EC700C', 'textColour': 'FFFFFF'}}}},\n",
       "    {'expectedArrivalTime': '2019-09-21T12:45:00+0200',\n",
       "     'expectedDepartureTime': '2019-09-21T12:45:00+0200',\n",
       "     'quay': {'id': 'NSR:Quay:11135', 'description': 'Retning sentrum'},\n",
       "     'destinationDisplay': {'frontText': 'Frognerseteren'},\n",
       "     'serviceJourney': {'line': {'id': 'RUT:Line:1',\n",
       "       'publicCode': '1',\n",
       "       'presentation': {'colour': 'EC700C', 'textColour': 'FFFFFF'}}}},\n",
       "    {'expectedArrivalTime': '2019-09-21T12:45:30+0200',\n",
       "     'expectedDepartureTime': '2019-09-21T12:45:30+0200',\n",
       "     'quay': {'id': 'NSR:Quay:11134', 'description': 'Retning øst'},\n",
       "     'destinationDisplay': {'frontText': 'Ellingsrudåsen'},\n",
       "     'serviceJourney': {'line': {'id': 'RUT:Line:2',\n",
       "       'publicCode': '2',\n",
       "       'presentation': {'colour': 'EC700C', 'textColour': 'FFFFFF'}}}},\n",
       "    {'expectedArrivalTime': '2019-09-21T12:46:00+0200',\n",
       "     'expectedDepartureTime': '2019-09-21T12:46:00+0200',\n",
       "     'quay': {'id': 'NSR:Quay:11134', 'description': 'Retning øst'},\n",
       "     'destinationDisplay': {'frontText': 'Mortensrud'},\n",
       "     'serviceJourney': {'line': {'id': 'RUT:Line:3',\n",
       "       'publicCode': '3',\n",
       "       'presentation': {'colour': 'EC700C', 'textColour': 'FFFFFF'}}}}]}}}"
      ]
     },
     "execution_count": 9,
     "metadata": {},
     "output_type": "execute_result"
    }
   ],
   "source": [
    "import avgangstider.entur_query\n",
    "query = avgangstider.entur_query.create_departure_query_whitelist(\n",
    "    stop_id=\"NSR:StopPlace:59516\",\n",
    "    line_ids=[\"RUT:Line:1\", \"RUT:Line:2\", \"RUT:Line:3\"],\n",
    "    max_departures=10\n",
    ")\n",
    "\n",
    "response = avgangstider.entur_query.journey_planner_api(query)\n",
    "response.json()"
   ]
  },
  {
   "cell_type": "markdown",
   "metadata": {},
   "source": [
    "# Situations"
   ]
  },
  {
   "cell_type": "code",
   "execution_count": 13,
   "metadata": {},
   "outputs": [
    {
     "data": {
      "text/plain": [
       "[Situation(line_id='RUT:Line:35', line_name='35', transport_mode='bus', bg_color='E60000', fg_color='FFFFFF', summary='Innstilt ut september')]"
      ]
     },
     "execution_count": 13,
     "metadata": {},
     "output_type": "execute_result"
    }
   ],
   "source": [
    "avgangstider.get_situations([\"RUT:Line:35\", \"RUT:Line:205\"])"
   ]
  },
  {
   "cell_type": "code",
   "execution_count": 11,
   "metadata": {},
   "outputs": [],
   "source": [
    "import avgangstider.entur_query\n",
    "query = avgangstider.entur_query.create_situation_query([])\n",
    "response = avgangstider.entur_query.journey_planner_api(query)\n",
    "j = response.json()"
   ]
  },
  {
   "cell_type": "code",
   "execution_count": 12,
   "metadata": {},
   "outputs": [
    {
     "data": {
      "text/plain": [
       "NoneType"
      ]
     },
     "execution_count": 12,
     "metadata": {},
     "output_type": "execute_result"
    }
   ],
   "source": [
    "type(j.get('data'))"
   ]
  },
  {
   "cell_type": "code",
   "execution_count": 13,
   "metadata": {},
   "outputs": [
    {
     "ename": "KeyError",
     "evalue": "'data'",
     "output_type": "error",
     "traceback": [
      "\u001b[0;31m---------------------------------------------------------------------------\u001b[0m",
      "\u001b[0;31mKeyError\u001b[0m                                  Traceback (most recent call last)",
      "\u001b[0;32m<ipython-input-13-cd222bb49ced>\u001b[0m in \u001b[0;36m<module>\u001b[0;34m\u001b[0m\n\u001b[0;32m----> 1\u001b[0;31m \u001b[0;32mfor\u001b[0m \u001b[0mline\u001b[0m \u001b[0;32min\u001b[0m \u001b[0mresponse\u001b[0m\u001b[0;34m.\u001b[0m\u001b[0mjson\u001b[0m\u001b[0;34m(\u001b[0m\u001b[0;34m)\u001b[0m\u001b[0;34m[\u001b[0m\u001b[0;34m'data'\u001b[0m\u001b[0;34m]\u001b[0m\u001b[0;34m[\u001b[0m\u001b[0;34m'lines'\u001b[0m\u001b[0;34m]\u001b[0m\u001b[0;34m:\u001b[0m\u001b[0;34m\u001b[0m\u001b[0;34m\u001b[0m\u001b[0m\n\u001b[0m\u001b[1;32m      2\u001b[0m     \u001b[0mprint\u001b[0m\u001b[0;34m(\u001b[0m\u001b[0;34m\"Line: \"\u001b[0m\u001b[0;34m,\u001b[0m \u001b[0mline\u001b[0m\u001b[0;34m)\u001b[0m\u001b[0;34m\u001b[0m\u001b[0;34m\u001b[0m\u001b[0m\n",
      "\u001b[0;31mKeyError\u001b[0m: 'data'"
     ]
    }
   ],
   "source": [
    "for line in response.json()['data']['lines']:\n",
    "    print(\"Line: \", line)"
   ]
  },
  {
   "cell_type": "markdown",
   "metadata": {},
   "source": [
    "# Save departures to a file"
   ]
  },
  {
   "cell_type": "code",
   "execution_count": 14,
   "metadata": {},
   "outputs": [],
   "source": [
    "import json\n",
    "import pickle\n",
    "import datetime\n",
    "\n",
    "from avgangstider.entur_query import (create_departure_query,\n",
    "                                      create_departure_query_whitelist,\n",
    "                                      create_situation_query,\n",
    "                                      journey_planner_api)"
   ]
  },
  {
   "cell_type": "code",
   "execution_count": 15,
   "metadata": {},
   "outputs": [],
   "source": [
    "# Get the raw json-data\n",
    "query = create_departure_query_whitelist(\n",
    "    stop_id='NSR:StopPlace:58366',\n",
    "    line_ids=['RUT:Line:1', 'RUT:Line:21', 'RUT:Line:35'],\n",
    "    max_departures=10\n",
    ")\n",
    "response = journey_planner_api(query)\n",
    "response.json()\n",
    "\n",
    "# Get processed data\n",
    "departures = avgangstider.get_departures(\n",
    "    stop_id='NSR:StopPlace:58366',\n",
    "    line_ids=['RUT:Line:1', 'RUT:Line:21', 'RUT:Line:35'],\n",
    "    max_departures=10\n",
    ")\n",
    "\n",
    "# Get the current datetime\n",
    "now = datetime.datetime.now().isoformat()"
   ]
  },
  {
   "cell_type": "code",
   "execution_count": 18,
   "metadata": {},
   "outputs": [],
   "source": [
    "with open(\"departures.json\", \"w\") as file:\n",
    "    json.dump(response.json(), file)\n",
    "    \n",
    "with open(\"departures.pkl\", \"wb\") as file:\n",
    "    pickle.dump(departures, file)\n",
    "    \n"
   ]
  },
  {
   "cell_type": "markdown",
   "metadata": {},
   "source": [
    "# Save situation json to file"
   ]
  },
  {
   "cell_type": "code",
   "execution_count": 22,
   "metadata": {},
   "outputs": [],
   "source": [
    "import avgangstider.entur_query\n",
    "query = avgangstider.entur_query.create_situation_query([\"RUT:Line:11\", \"RUT:Line:17\", \"RUT:Line:35\"])\n",
    "response = avgangstider.entur_query.journey_planner_api(query)"
   ]
  },
  {
   "cell_type": "code",
   "execution_count": 27,
   "metadata": {},
   "outputs": [
    {
     "data": {
      "text/plain": [
       "{'data': {'lines': [{'id': 'RUT:Line:11',\n",
       "    'publicCode': '11',\n",
       "    'transportMode': 'tram',\n",
       "    'presentation': {'textColour': 'FFFFFF', 'colour': '0B91EF'},\n",
       "    'situations': [{'summary': [{'value': 'Stopper ikke på Storo, Grefsenveien, Sandaker senter, Torshov, Biermanns gate, Birkelunden og Schous plass',\n",
       "        'language': 'no'},\n",
       "       {'value': 'Not stopping at Storo, Grefsenveien, Sandaker senter, Torshov, Biermanns gate, Birkelunden and Schous plass',\n",
       "        'language': 'en'}],\n",
       "      'description': [{'value': 'Trikken har en omkjøring og stopper ikke på Storo, Grefsenveien, Sandaker senter, Torshov, Biermanns gate, Birkelunden og Schous plass på grunn av anleggsarbeid.',\n",
       "        'language': 'no'},\n",
       "       {'value': 'The trams have a detour and do not stop at Storo, Grefsenveien, Sandaker senter, Torshov, Biermanns gate, Birkelunden and Schous plass due to construction work.',\n",
       "        'language': 'en'}],\n",
       "      'advice': [{'value': 'Trikken vil få endret trasé og kjøre via Carl berners plss og Tondheimsveien.\\nBuss 11B buss-for-trikk fra Jernbanetorget plattform D til Kjelsås',\n",
       "        'language': 'no'},\n",
       "       {'value': 'The deviation route is via Carl Berners plass and Trondheimsveien.\\nBus 11 B replaces the tram from Jernbanetorget platform D to Kjelsås',\n",
       "        'language': 'en'}],\n",
       "      'validityPeriod': {'startTime': '2019-09-23T20:00:00+0200',\n",
       "       'endTime': '2019-09-24T03:00:00+0200'}},\n",
       "     {'summary': [{'value': 'Innstilt mellom Jernbanetorget og Majorstuen',\n",
       "        'language': 'no'},\n",
       "       {'value': 'Suspended between Jernbanetorget and Majorstuen',\n",
       "        'language': 'en'}],\n",
       "      'description': [{'value': 'Trikk 11 er innstilt mellom Jernbanetorget og Majorstuen på grunn av Oslo maraton.',\n",
       "        'language': 'no'},\n",
       "       {'value': 'Tram 11 is suspended from Jernbanetorget to Majorstuen due to Oslo maraton.',\n",
       "        'language': 'en'}],\n",
       "      'advice': [{'value': 'Stopper ikke på Stortorvet, Tinghuset, Holbergs plass, Frydenlund, Welhavens gate, Homansbyen, Bogstadveien, Majorstuen. På Jernbanetorget stopper linje 11 ved plf. B og C.',\n",
       "        'language': 'no'},\n",
       "       {'value': 'Not stopping at Stortorvet, Tinghuset, Holbergs plass, Frydenlund, Welhavens gate, Homansbyen, Bogstadveien, Majorstuen. At Jernbanetorget, line 11 stops at plf. B and C.',\n",
       "        'language': 'en'}],\n",
       "      'validityPeriod': {'startTime': '2019-09-21T05:00:00+0200',\n",
       "       'endTime': '2019-09-21T21:00:00+0200'}}]},\n",
       "   {'id': 'RUT:Line:17',\n",
       "    'publicCode': '17',\n",
       "    'transportMode': 'tram',\n",
       "    'presentation': {'textColour': 'FFFFFF', 'colour': '0B91EF'},\n",
       "    'situations': [{'summary': [{'value': 'Innstilt mellom Jernbanetorget og Holbergs plass',\n",
       "        'language': 'no'},\n",
       "       {'value': 'Cancelled between Jernbanetorget and Holbergs plass',\n",
       "        'language': 'en'}],\n",
       "      'description': [{'value': 'Tikk 17 kjører kun mellom Rikshospitalet – Holbergs plass og Jernbanetorget (Bjørvika) – Grefsen st. på grunn av Oslo maraton. På Jernbanetorget stopper linje 17 ved plf. B/C. På Holbergs plass benyttes midlertidig holdeplass i Holbergs gate ved Pilestredet.',\n",
       "        'language': 'no'},\n",
       "       {'value': 'Tram 17 only runs between Rikshospitalet – Holbergs plass and Jernbanetorget (Bjørvika) – Grefsen st. due to Oslo Marathon. At Jernbanetorget route 17 stops at the platform. B/C. At Holbergs plass, a temporary bus stop is set up in Holbergs gate by Pilestredet.',\n",
       "        'language': 'en'}],\n",
       "      'advice': [{'value': 'Stopper ikke på Tinghuset og Stortorvet.',\n",
       "        'language': 'no'},\n",
       "       {'value': 'Does not stop at Tinghuset and Stortorvet.',\n",
       "        'language': 'en'}],\n",
       "      'validityPeriod': {'startTime': '2019-09-21T05:00:00+0200',\n",
       "       'endTime': '2019-09-21T21:00:00+0200'}}]},\n",
       "   {'id': 'RUT:Line:35',\n",
       "    'publicCode': '35',\n",
       "    'transportMode': 'bus',\n",
       "    'presentation': {'textColour': 'FFFFFF', 'colour': 'E60000'},\n",
       "    'situations': [{'summary': [{'value': 'Innstilt ut september',\n",
       "        'language': 'no'},\n",
       "       {'value': 'Cancelled until further notice', 'language': 'en'}],\n",
       "      'description': [{'value': 'På grunn av flere arrangement og anleggsarbeid på kaia er linje 35 innstilt til og med september. Vi beklager dette. ',\n",
       "        'language': 'no'},\n",
       "       {'value': 'Due to several events and construction work, line 35 is cancelled through september. We apologise for this.',\n",
       "        'language': 'en'}],\n",
       "      'advice': [{'value': ',', 'language': 'no'}],\n",
       "      'validityPeriod': {'startTime': '2019-08-26T13:06:00+0200',\n",
       "       'endTime': '9999-12-31T23:59:59+0100'}}]}]}}"
      ]
     },
     "execution_count": 27,
     "metadata": {},
     "output_type": "execute_result"
    }
   ],
   "source": [
    "response.json()"
   ]
  },
  {
   "cell_type": "code",
   "execution_count": 23,
   "metadata": {},
   "outputs": [],
   "source": [
    "import json\n",
    "\n",
    "with open(\"situations.json\", \"w\") as file:\n",
    "    json.dump(response.json(), file)"
   ]
  },
  {
   "cell_type": "code",
   "execution_count": 25,
   "metadata": {},
   "outputs": [],
   "source": [
    "import pickle\n",
    "\n",
    "with open(\"situations.pkl\", \"wb\") as file: \n",
    "    situations = avgangstider.get_situations([\"RUT:Line:11\", \"RUT:Line:17\", \"RUT:Line:35\"])\n",
    "    pickle.dump(situations, file)"
   ]
  },
  {
   "cell_type": "code",
   "execution_count": 26,
   "metadata": {},
   "outputs": [
    {
     "data": {
      "text/plain": [
       "3"
      ]
     },
     "execution_count": 26,
     "metadata": {},
     "output_type": "execute_result"
    }
   ],
   "source": [
    "len(situations)"
   ]
  },
  {
   "cell_type": "code",
   "execution_count": null,
   "metadata": {},
   "outputs": [],
   "source": [
    "for line in range(1, 500):\n",
    "    print(\"Running for line {}\".format(line))\n",
    "    sits = avgangstider.get_situations(\"RUT:Line:{}\".format(line))\n",
    "    if sits:\n",
    "        print(sits[0].summary)\n",
    "    if len(sits) > 1:\n",
    "        break"
   ]
  },
  {
   "cell_type": "code",
   "execution_count": null,
   "metadata": {},
   "outputs": [],
   "source": [
    "lines = [\"RUT:Line:1\", \"RUT:Line:3\"]"
   ]
  },
  {
   "cell_type": "code",
   "execution_count": null,
   "metadata": {},
   "outputs": [],
   "source": [
    "str(lines).replace(\"'\",'\"')"
   ]
  },
  {
   "cell_type": "code",
   "execution_count": 72,
   "metadata": {},
   "outputs": [],
   "source": [
    "situations = []\n",
    "current_situation = 0"
   ]
  },
  {
   "cell_type": "code",
   "execution_count": 73,
   "metadata": {},
   "outputs": [
    {
     "name": "stdout",
     "output_type": "stream",
     "text": [
      "0\n"
     ]
    }
   ],
   "source": [
    "if situations:\n",
    "    print(situations[current_situation])\n",
    "    current_situation = (current_situation + 1) % len(situations)\n",
    "print(current_situation)"
   ]
  },
  {
   "cell_type": "code",
   "execution_count": null,
   "metadata": {},
   "outputs": [],
   "source": []
  }
 ],
 "metadata": {
  "kernelspec": {
   "display_name": "Python 3",
   "language": "python",
   "name": "python3"
  },
  "language_info": {
   "codemirror_mode": {
    "name": "ipython",
    "version": 3
   },
   "file_extension": ".py",
   "mimetype": "text/x-python",
   "name": "python",
   "nbconvert_exporter": "python",
   "pygments_lexer": "ipython3",
   "version": "3.7.4"
  },
  "toc": {
   "base_numbering": 1,
   "nav_menu": {},
   "number_sections": true,
   "sideBar": true,
   "skip_h1_title": false,
   "title_cell": "Table of Contents",
   "title_sidebar": "Contents",
   "toc_cell": false,
   "toc_position": {},
   "toc_section_display": true,
   "toc_window_display": false
  }
 },
 "nbformat": 4,
 "nbformat_minor": 2
}
