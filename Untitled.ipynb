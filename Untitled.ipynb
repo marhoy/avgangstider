{
 "cells": [
  {
   "cell_type": "code",
   "execution_count": 1,
   "metadata": {},
   "outputs": [],
   "source": [
    "%load_ext autoreload\n",
    "%autoreload 2"
   ]
  },
  {
   "cell_type": "code",
   "execution_count": 2,
   "metadata": {},
   "outputs": [],
   "source": [
    "from pathlib import Path\n",
    "\n",
    "import avgangstider"
   ]
  },
  {
   "cell_type": "markdown",
   "metadata": {},
   "source": [
    "# Departures\n"
   ]
  },
  {
   "cell_type": "code",
   "execution_count": 3,
   "metadata": {},
   "outputs": [
    {
     "data": {
      "text/plain": [
       "[]"
      ]
     },
     "execution_count": 3,
     "metadata": {},
     "output_type": "execute_result"
    }
   ],
   "source": [
    "avgangstider.get_departures(\"Jalla\")"
   ]
  },
  {
   "cell_type": "code",
   "execution_count": 4,
   "metadata": {},
   "outputs": [
    {
     "data": {
      "text/plain": [
       "[Departure(line_id='RUT:Line:3', line_name='3', destination='Kolsås', platform='NSR:Quay:10949', departure_datetime=datetime.datetime(2025, 1, 23, 22, 15, tzinfo=datetime.timezone(datetime.timedelta(seconds=3600))), bg_color='EC700C', fg_color='FFFFFF'),\n",
       " Departure(line_id='RUT:Line:3', line_name='3', destination='Kolsås', platform='NSR:Quay:10949', departure_datetime=datetime.datetime(2025, 1, 23, 22, 30, tzinfo=datetime.timezone(datetime.timedelta(seconds=3600))), bg_color='EC700C', fg_color='FFFFFF'),\n",
       " Departure(line_id='RUT:Line:3', line_name='3', destination='Kolsås', platform='NSR:Quay:10949', departure_datetime=datetime.datetime(2025, 1, 23, 22, 45, tzinfo=datetime.timezone(datetime.timedelta(seconds=3600))), bg_color='EC700C', fg_color='FFFFFF'),\n",
       " Departure(line_id='RUT:Line:3', line_name='3', destination='Kolsås', platform='NSR:Quay:10949', departure_datetime=datetime.datetime(2025, 1, 23, 23, 0, tzinfo=datetime.timezone(datetime.timedelta(seconds=3600))), bg_color='EC700C', fg_color='FFFFFF'),\n",
       " Departure(line_id='RUT:Line:3', line_name='3', destination='Kolsås', platform='NSR:Quay:10949', departure_datetime=datetime.datetime(2025, 1, 23, 23, 15, tzinfo=datetime.timezone(datetime.timedelta(seconds=3600))), bg_color='EC700C', fg_color='FFFFFF')]"
      ]
     },
     "execution_count": 4,
     "metadata": {},
     "output_type": "execute_result"
    }
   ],
   "source": [
    "avgangstider.get_departures(\n",
    "    \"NSR:StopPlace:5968\", max_departures=10, platforms=[\"NSR:Quay:10949\"]\n",
    ")"
   ]
  },
  {
   "cell_type": "code",
   "execution_count": 5,
   "metadata": {},
   "outputs": [
    {
     "data": {
      "text/plain": [
       "[Departure(line_id='RUT:Line:21', line_name='21', destination='Tjuvholmen', platform='NSR:Quay:11148', departure_datetime=datetime.datetime(2025, 1, 23, 22, 4, tzinfo=datetime.timezone(datetime.timedelta(seconds=3600))), bg_color='E60000', fg_color='FFFFFF'),\n",
       " Departure(line_id='RUT:Line:21', line_name='21', destination='Tjuvholmen', platform='NSR:Quay:11148', departure_datetime=datetime.datetime(2025, 1, 23, 22, 14, tzinfo=datetime.timezone(datetime.timedelta(seconds=3600))), bg_color='E60000', fg_color='FFFFFF'),\n",
       " Departure(line_id='RUT:Line:21', line_name='21', destination='Tjuvholmen', platform='NSR:Quay:11148', departure_datetime=datetime.datetime(2025, 1, 23, 22, 24, tzinfo=datetime.timezone(datetime.timedelta(seconds=3600))), bg_color='E60000', fg_color='FFFFFF'),\n",
       " Departure(line_id='RUT:Line:21', line_name='21', destination='Tjuvholmen', platform='NSR:Quay:11148', departure_datetime=datetime.datetime(2025, 1, 23, 22, 34, tzinfo=datetime.timezone(datetime.timedelta(seconds=3600))), bg_color='E60000', fg_color='FFFFFF'),\n",
       " Departure(line_id='RUT:Line:21', line_name='21', destination='Tjuvholmen', platform='NSR:Quay:11148', departure_datetime=datetime.datetime(2025, 1, 23, 22, 44, tzinfo=datetime.timezone(datetime.timedelta(seconds=3600))), bg_color='E60000', fg_color='FFFFFF'),\n",
       " Departure(line_id='RUT:Line:21', line_name='21', destination='Tjuvholmen', platform='NSR:Quay:11148', departure_datetime=datetime.datetime(2025, 1, 23, 22, 54, tzinfo=datetime.timezone(datetime.timedelta(seconds=3600))), bg_color='E60000', fg_color='FFFFFF'),\n",
       " Departure(line_id='RUT:Line:21', line_name='21', destination='Tjuvholmen', platform='NSR:Quay:11148', departure_datetime=datetime.datetime(2025, 1, 23, 23, 4, tzinfo=datetime.timezone(datetime.timedelta(seconds=3600))), bg_color='E60000', fg_color='FFFFFF'),\n",
       " Departure(line_id='RUT:Line:21', line_name='21', destination='Tjuvholmen', platform='NSR:Quay:11148', departure_datetime=datetime.datetime(2025, 1, 23, 23, 14, tzinfo=datetime.timezone(datetime.timedelta(seconds=3600))), bg_color='E60000', fg_color='FFFFFF'),\n",
       " Departure(line_id='RUT:Line:21', line_name='21', destination='Tjuvholmen', platform='NSR:Quay:11148', departure_datetime=datetime.datetime(2025, 1, 23, 23, 24, tzinfo=datetime.timezone(datetime.timedelta(seconds=3600))), bg_color='E60000', fg_color='FFFFFF'),\n",
       " Departure(line_id='RUT:Line:21', line_name='21', destination='Tjuvholmen', platform='NSR:Quay:11148', departure_datetime=datetime.datetime(2025, 1, 23, 23, 34, tzinfo=datetime.timezone(datetime.timedelta(seconds=3600))), bg_color='E60000', fg_color='FFFFFF')]"
      ]
     },
     "execution_count": 5,
     "metadata": {},
     "output_type": "execute_result"
    }
   ],
   "source": [
    "avgangstider.get_departures(\n",
    "    \"NSR:StopPlace:59516\", max_departures=10, line_ids=[\"RUT:Line:21\"]\n",
    ")"
   ]
  },
  {
   "cell_type": "code",
   "execution_count": 6,
   "metadata": {},
   "outputs": [
    {
     "data": {
      "text/plain": [
       "[Departure(line_id='RUT:Line:3', line_name='3', destination='Kolsås', platform='NSR:Quay:10949', departure_datetime=datetime.datetime(2025, 1, 23, 22, 15, tzinfo=datetime.timezone(datetime.timedelta(seconds=3600))), bg_color='EC700C', fg_color='FFFFFF'),\n",
       " Departure(line_id='RUT:Line:3', line_name='3', destination='Kolsås', platform='NSR:Quay:10949', departure_datetime=datetime.datetime(2025, 1, 23, 22, 30, tzinfo=datetime.timezone(datetime.timedelta(seconds=3600))), bg_color='EC700C', fg_color='FFFFFF'),\n",
       " Departure(line_id='RUT:Line:3', line_name='3', destination='Kolsås', platform='NSR:Quay:10949', departure_datetime=datetime.datetime(2025, 1, 23, 22, 45, tzinfo=datetime.timezone(datetime.timedelta(seconds=3600))), bg_color='EC700C', fg_color='FFFFFF'),\n",
       " Departure(line_id='RUT:Line:3', line_name='3', destination='Kolsås', platform='NSR:Quay:10949', departure_datetime=datetime.datetime(2025, 1, 23, 23, 0, tzinfo=datetime.timezone(datetime.timedelta(seconds=3600))), bg_color='EC700C', fg_color='FFFFFF'),\n",
       " Departure(line_id='RUT:Line:3', line_name='3', destination='Kolsås', platform='NSR:Quay:10949', departure_datetime=datetime.datetime(2025, 1, 23, 23, 15, tzinfo=datetime.timezone(datetime.timedelta(seconds=3600))), bg_color='EC700C', fg_color='FFFFFF')]"
      ]
     },
     "execution_count": 6,
     "metadata": {},
     "output_type": "execute_result"
    }
   ],
   "source": [
    "avgangstider.get_departures(stop_id=\"NSR:StopPlace:5968\", platforms=[\"NSR:Quay:10949\"])"
   ]
  },
  {
   "cell_type": "code",
   "execution_count": 7,
   "metadata": {},
   "outputs": [
    {
     "data": {
      "text/plain": [
       "[Departure(line_id='RUT:Line:66', line_name='66', destination='Grorud T via Ikea', platform='NSR:Quay:11148', departure_datetime=datetime.datetime(2025, 1, 23, 22, 0, 31, tzinfo=datetime.timezone(datetime.timedelta(seconds=3600))), bg_color='E60000', fg_color='FFFFFF'),\n",
       " Departure(line_id='RUT:Line:300', line_name='300', destination='Oslo bussterminal', platform='NSR:Quay:11131', departure_datetime=datetime.datetime(2025, 1, 23, 22, 0, 35, tzinfo=datetime.timezone(datetime.timedelta(seconds=3600))), bg_color='E60000', fg_color='FFFFFF'),\n",
       " Departure(line_id='RUT:Line:300', line_name='300', destination='Blystadlia', platform='NSR:Quay:11142', departure_datetime=datetime.datetime(2025, 1, 23, 22, 0, 49, tzinfo=datetime.timezone(datetime.timedelta(seconds=3600))), bg_color='E60000', fg_color='FFFFFF'),\n",
       " Departure(line_id='RUT:Line:4', line_name='4', destination='Bergkrystallen', platform='NSR:Quay:11134', departure_datetime=datetime.datetime(2025, 1, 23, 22, 3, tzinfo=datetime.timezone(datetime.timedelta(seconds=3600))), bg_color='EC700C', fg_color='FFFFFF'),\n",
       " Departure(line_id='RUT:Line:21', line_name='21', destination='Tjuvholmen', platform='NSR:Quay:11148', departure_datetime=datetime.datetime(2025, 1, 23, 22, 4, tzinfo=datetime.timezone(datetime.timedelta(seconds=3600))), bg_color='E60000', fg_color='FFFFFF'),\n",
       " Departure(line_id='RUT:Line:400', line_name='400', destination='Veståsen', platform='NSR:Quay:11143', departure_datetime=datetime.datetime(2025, 1, 23, 22, 4, 57, tzinfo=datetime.timezone(datetime.timedelta(seconds=3600))), bg_color='76A300', fg_color='FFFFFF'),\n",
       " Departure(line_id='RUT:Line:37', line_name='37', destination='Nydalen T', platform='NSR:Quay:11154', departure_datetime=datetime.datetime(2025, 1, 23, 22, 5, tzinfo=datetime.timezone(datetime.timedelta(seconds=3600))), bg_color='E60000', fg_color='FFFFFF'),\n",
       " Departure(line_id='RUT:Line:3', line_name='3', destination='Kolsås', platform='NSR:Quay:11135', departure_datetime=datetime.datetime(2025, 1, 23, 22, 6, 13, tzinfo=datetime.timezone(datetime.timedelta(seconds=3600))), bg_color='EC700C', fg_color='FFFFFF'),\n",
       " Departure(line_id='RUT:Line:4', line_name='4', destination='Vestli via Majorstuen', platform='NSR:Quay:11135', departure_datetime=datetime.datetime(2025, 1, 23, 22, 8, tzinfo=datetime.timezone(datetime.timedelta(seconds=3600))), bg_color='EC700C', fg_color='FFFFFF'),\n",
       " Departure(line_id='RUT:Line:3', line_name='3', destination='Mortensrud', platform='NSR:Quay:11134', departure_datetime=datetime.datetime(2025, 1, 23, 22, 8, 1, tzinfo=datetime.timezone(datetime.timedelta(seconds=3600))), bg_color='EC700C', fg_color='FFFFFF')]"
      ]
     },
     "execution_count": 7,
     "metadata": {},
     "output_type": "execute_result"
    }
   ],
   "source": [
    "avgangstider.get_departures(\"NSR:StopPlace:59516\", max_departures=10)"
   ]
  },
  {
   "cell_type": "code",
   "execution_count": 8,
   "metadata": {},
   "outputs": [
    {
     "data": {
      "text/plain": [
       "[Departure(line_id='RUT:Line:3', line_name='3', destination='Mortensrud', platform='NSR:Quay:11134', departure_datetime=datetime.datetime(2025, 1, 23, 22, 8, 1, tzinfo=datetime.timezone(datetime.timedelta(seconds=3600))), bg_color='EC700C', fg_color='FFFFFF'),\n",
       " Departure(line_id='RUT:Line:3', line_name='3', destination='Mortensrud', platform='NSR:Quay:11134', departure_datetime=datetime.datetime(2025, 1, 23, 22, 23, 34, tzinfo=datetime.timezone(datetime.timedelta(seconds=3600))), bg_color='EC700C', fg_color='FFFFFF'),\n",
       " Departure(line_id='RUT:Line:3', line_name='3', destination='Mortensrud', platform='NSR:Quay:11134', departure_datetime=datetime.datetime(2025, 1, 23, 22, 37, tzinfo=datetime.timezone(datetime.timedelta(seconds=3600))), bg_color='EC700C', fg_color='FFFFFF'),\n",
       " Departure(line_id='RUT:Line:3', line_name='3', destination='Mortensrud', platform='NSR:Quay:11134', departure_datetime=datetime.datetime(2025, 1, 23, 22, 52, tzinfo=datetime.timezone(datetime.timedelta(seconds=3600))), bg_color='EC700C', fg_color='FFFFFF'),\n",
       " Departure(line_id='RUT:Line:3', line_name='3', destination='Mortensrud', platform='NSR:Quay:11134', departure_datetime=datetime.datetime(2025, 1, 23, 23, 7, tzinfo=datetime.timezone(datetime.timedelta(seconds=3600))), bg_color='EC700C', fg_color='FFFFFF'),\n",
       " Departure(line_id='RUT:Line:3', line_name='3', destination='Mortensrud', platform='NSR:Quay:11134', departure_datetime=datetime.datetime(2025, 1, 23, 23, 22, tzinfo=datetime.timezone(datetime.timedelta(seconds=3600))), bg_color='EC700C', fg_color='FFFFFF')]"
      ]
     },
     "execution_count": 8,
     "metadata": {},
     "output_type": "execute_result"
    }
   ],
   "source": [
    "avgangstider.get_departures(\n",
    "    \"NSR:StopPlace:59516\",\n",
    "    line_ids=[\"RUT:Line:21\", \"RUT:Line:3\"],\n",
    "    max_departures=20,\n",
    "    platforms=[\"NSR:Quay:11134\"],\n",
    ")"
   ]
  },
  {
   "cell_type": "code",
   "execution_count": 9,
   "metadata": {},
   "outputs": [
    {
     "data": {
      "text/plain": [
       "{'data': {'stopPlace': {'name': 'Helsfyr',\n",
       "   'estimatedCalls': [{'expectedArrivalTime': '2025-01-23T22:06:13+01:00',\n",
       "     'expectedDepartureTime': '2025-01-23T22:06:13+01:00',\n",
       "     'quay': {'id': 'NSR:Quay:11135', 'description': 'Retning sentrum'},\n",
       "     'destinationDisplay': {'frontText': 'Kolsås'},\n",
       "     'serviceJourney': {'line': {'id': 'RUT:Line:3',\n",
       "       'publicCode': '3',\n",
       "       'presentation': {'colour': 'EC700C', 'textColour': 'FFFFFF'}}}},\n",
       "    {'expectedArrivalTime': '2025-01-23T22:08:01+01:00',\n",
       "     'expectedDepartureTime': '2025-01-23T22:08:01+01:00',\n",
       "     'quay': {'id': 'NSR:Quay:11134', 'description': 'Retning øst'},\n",
       "     'destinationDisplay': {'frontText': 'Mortensrud'},\n",
       "     'serviceJourney': {'line': {'id': 'RUT:Line:3',\n",
       "       'publicCode': '3',\n",
       "       'presentation': {'colour': 'EC700C', 'textColour': 'FFFFFF'}}}},\n",
       "    {'expectedArrivalTime': '2025-01-23T22:10:00+01:00',\n",
       "     'expectedDepartureTime': '2025-01-23T22:10:00+01:00',\n",
       "     'quay': {'id': 'NSR:Quay:11135', 'description': 'Retning sentrum'},\n",
       "     'destinationDisplay': {'frontText': 'Østerås'},\n",
       "     'serviceJourney': {'line': {'id': 'RUT:Line:2',\n",
       "       'publicCode': '2',\n",
       "       'presentation': {'colour': 'EC700C', 'textColour': 'FFFFFF'}}}},\n",
       "    {'expectedArrivalTime': '2025-01-23T22:15:08+01:00',\n",
       "     'expectedDepartureTime': '2025-01-23T22:15:08+01:00',\n",
       "     'quay': {'id': 'NSR:Quay:11134', 'description': 'Retning øst'},\n",
       "     'destinationDisplay': {'frontText': 'Ellingsrudåsen'},\n",
       "     'serviceJourney': {'line': {'id': 'RUT:Line:2',\n",
       "       'publicCode': '2',\n",
       "       'presentation': {'colour': 'EC700C', 'textColour': 'FFFFFF'}}}},\n",
       "    {'expectedArrivalTime': '2025-01-23T22:21:00+01:00',\n",
       "     'expectedDepartureTime': '2025-01-23T22:21:00+01:00',\n",
       "     'quay': {'id': 'NSR:Quay:11135', 'description': 'Retning sentrum'},\n",
       "     'destinationDisplay': {'frontText': 'Kolsås'},\n",
       "     'serviceJourney': {'line': {'id': 'RUT:Line:3',\n",
       "       'publicCode': '3',\n",
       "       'presentation': {'colour': 'EC700C', 'textColour': 'FFFFFF'}}}},\n",
       "    {'expectedArrivalTime': '2025-01-23T22:23:34+01:00',\n",
       "     'expectedDepartureTime': '2025-01-23T22:23:34+01:00',\n",
       "     'quay': {'id': 'NSR:Quay:11134', 'description': 'Retning øst'},\n",
       "     'destinationDisplay': {'frontText': 'Mortensrud'},\n",
       "     'serviceJourney': {'line': {'id': 'RUT:Line:3',\n",
       "       'publicCode': '3',\n",
       "       'presentation': {'colour': 'EC700C', 'textColour': 'FFFFFF'}}}},\n",
       "    {'expectedArrivalTime': '2025-01-23T22:25:00+01:00',\n",
       "     'expectedDepartureTime': '2025-01-23T22:25:00+01:00',\n",
       "     'quay': {'id': 'NSR:Quay:11135', 'description': 'Retning sentrum'},\n",
       "     'destinationDisplay': {'frontText': 'Østerås'},\n",
       "     'serviceJourney': {'line': {'id': 'RUT:Line:2',\n",
       "       'publicCode': '2',\n",
       "       'presentation': {'colour': 'EC700C', 'textColour': 'FFFFFF'}}}},\n",
       "    {'expectedArrivalTime': '2025-01-23T22:29:00+01:00',\n",
       "     'expectedDepartureTime': '2025-01-23T22:29:00+01:00',\n",
       "     'quay': {'id': 'NSR:Quay:11134', 'description': 'Retning øst'},\n",
       "     'destinationDisplay': {'frontText': 'Ellingsrudåsen'},\n",
       "     'serviceJourney': {'line': {'id': 'RUT:Line:2',\n",
       "       'publicCode': '2',\n",
       "       'presentation': {'colour': 'EC700C', 'textColour': 'FFFFFF'}}}},\n",
       "    {'expectedArrivalTime': '2025-01-23T22:36:00+01:00',\n",
       "     'expectedDepartureTime': '2025-01-23T22:36:00+01:00',\n",
       "     'quay': {'id': 'NSR:Quay:11135', 'description': 'Retning sentrum'},\n",
       "     'destinationDisplay': {'frontText': 'Kolsås'},\n",
       "     'serviceJourney': {'line': {'id': 'RUT:Line:3',\n",
       "       'publicCode': '3',\n",
       "       'presentation': {'colour': 'EC700C', 'textColour': 'FFFFFF'}}}},\n",
       "    {'expectedArrivalTime': '2025-01-23T22:37:00+01:00',\n",
       "     'expectedDepartureTime': '2025-01-23T22:37:00+01:00',\n",
       "     'quay': {'id': 'NSR:Quay:11134', 'description': 'Retning øst'},\n",
       "     'destinationDisplay': {'frontText': 'Mortensrud'},\n",
       "     'serviceJourney': {'line': {'id': 'RUT:Line:3',\n",
       "       'publicCode': '3',\n",
       "       'presentation': {'colour': 'EC700C', 'textColour': 'FFFFFF'}}}}]}}}"
      ]
     },
     "execution_count": 9,
     "metadata": {},
     "output_type": "execute_result"
    }
   ],
   "source": [
    "import avgangstider.entur_query\n",
    "\n",
    "query = avgangstider.entur_query.create_departure_query_whitelist(\n",
    "    stop_id=\"NSR:StopPlace:59516\",\n",
    "    line_ids=[\"RUT:Line:1\", \"RUT:Line:2\", \"RUT:Line:3\"],\n",
    "    max_departures=10,\n",
    ")\n",
    "\n",
    "response = avgangstider.entur_query.journey_planner_api(query)\n",
    "response.json()"
   ]
  },
  {
   "cell_type": "markdown",
   "metadata": {},
   "source": [
    "# Situations\n"
   ]
  },
  {
   "cell_type": "code",
   "execution_count": 10,
   "metadata": {},
   "outputs": [
    {
     "name": "stderr",
     "output_type": "stream",
     "text": [
      "\u001b[32m2025-01-23 22:00:26.181\u001b[0m | \u001b[34m\u001b[1mDEBUG   \u001b[0m | \u001b[36mavgangstider.entur_api\u001b[0m:\u001b[36mget_situations\u001b[0m:\u001b[36m86\u001b[0m - \u001b[34m\u001b[1mGetting situations for lines ['RUT:Line:35', 'RUT:Line:205'].\u001b[0m\n"
     ]
    },
    {
     "data": {
      "text/plain": [
       "[]"
      ]
     },
     "execution_count": 10,
     "metadata": {},
     "output_type": "execute_result"
    }
   ],
   "source": [
    "avgangstider.get_situations([\"RUT:Line:35\", \"RUT:Line:205\"])"
   ]
  },
  {
   "cell_type": "code",
   "execution_count": 11,
   "metadata": {},
   "outputs": [],
   "source": [
    "import avgangstider.entur_query\n",
    "\n",
    "query = avgangstider.entur_query.create_situation_query([])\n",
    "response = avgangstider.entur_query.journey_planner_api(query)\n",
    "j = response.json()"
   ]
  },
  {
   "cell_type": "code",
   "execution_count": 12,
   "metadata": {},
   "outputs": [
    {
     "data": {
      "text/plain": [
       "dict"
      ]
     },
     "execution_count": 12,
     "metadata": {},
     "output_type": "execute_result"
    }
   ],
   "source": [
    "type(j.get(\"data\"))"
   ]
  },
  {
   "cell_type": "code",
   "execution_count": 13,
   "metadata": {},
   "outputs": [],
   "source": [
    "for line in response.json()[\"data\"][\"lines\"]:\n",
    "    print(\"Line: \", line)"
   ]
  },
  {
   "cell_type": "markdown",
   "metadata": {},
   "source": [
    "# Save departures to a file\n"
   ]
  },
  {
   "cell_type": "code",
   "execution_count": 14,
   "metadata": {},
   "outputs": [],
   "source": [
    "import datetime\n",
    "import json\n",
    "import pickle\n",
    "from zoneinfo import ZoneInfo\n",
    "\n",
    "from avgangstider.entur_query import (\n",
    "    create_departure_query_whitelist,\n",
    "    journey_planner_api,\n",
    ")"
   ]
  },
  {
   "cell_type": "code",
   "execution_count": 15,
   "metadata": {},
   "outputs": [],
   "source": [
    "# Get the raw json-data\n",
    "query = create_departure_query_whitelist(\n",
    "    stop_id=\"NSR:StopPlace:58366\",\n",
    "    line_ids=[\"RUT:Line:1\", \"RUT:Line:21\", \"RUT:Line:35\"],\n",
    "    max_departures=10,\n",
    ")\n",
    "response = journey_planner_api(query)\n",
    "response.json()\n",
    "\n",
    "# Get processed data\n",
    "departures = avgangstider.get_departures(\n",
    "    stop_id=\"NSR:StopPlace:58366\",\n",
    "    line_ids=[\"RUT:Line:1\", \"RUT:Line:21\", \"RUT:Line:35\"],\n",
    "    max_departures=10,\n",
    ")\n",
    "\n",
    "# Get the current datetime\n",
    "now = datetime.datetime.now(ZoneInfo(\"Europe/Oslo\")).isoformat()"
   ]
  },
  {
   "cell_type": "code",
   "execution_count": 16,
   "metadata": {},
   "outputs": [],
   "source": [
    "with Path(\"departures.json\").open(\"w\") as file:\n",
    "    json.dump(response.json(), file)\n",
    "\n",
    "with Path(\"departures.pkl\").open(\"wb\") as file:\n",
    "    pickle.dump(departures, file)"
   ]
  },
  {
   "cell_type": "markdown",
   "metadata": {},
   "source": [
    "# Save situation json to file\n"
   ]
  },
  {
   "cell_type": "code",
   "execution_count": 17,
   "metadata": {},
   "outputs": [],
   "source": [
    "import avgangstider.entur_query\n",
    "\n",
    "query = avgangstider.entur_query.create_situation_query(\n",
    "    [\"RUT:Line:11\", \"RUT:Line:17\", \"RUT:Line:35\"]\n",
    ")\n",
    "response = avgangstider.entur_query.journey_planner_api(query)"
   ]
  },
  {
   "cell_type": "code",
   "execution_count": 18,
   "metadata": {},
   "outputs": [
    {
     "data": {
      "text/plain": [
       "{'data': {'lines': [None,\n",
       "   {'id': 'RUT:Line:17',\n",
       "    'publicCode': '17',\n",
       "    'transportMode': 'tram',\n",
       "    'presentation': {'textColour': 'FFFFFF', 'colour': '0B91EF'},\n",
       "    'situations': [{'summary': [{'value': 'Buss for trikk John Colletts plass - Rikshospitalet (Linje 17 og 18)',\n",
       "        'language': 'no'},\n",
       "       {'value': 'Bus replacement service John Colletts plass - Rikshospitalet (Line 17 and 18)',\n",
       "        'language': 'en'}],\n",
       "      'description': [{'value': 'Bussen stopper ved følgende midlertidige holdeplasser: John Colletts plass i Prestegårdsveien, Forskningsparken i Problemveien,  Gaustadalléen, Rikshospitalet i Sognsvannsveien og Universitetet Blindern i Problemveien.',\n",
       "        'language': 'no'},\n",
       "       {'value': 'Buses are stopping at the following temporary stops: John Colletts plass (Prestegårdsveien), Forskningsparken (Problemveien), Gaustadalléen, Rikshospitalet (Sognsvannsveien) and Universitetet Blindern (Problemveien).',\n",
       "        'language': 'en'}],\n",
       "      'advice': [{'value': 'Dette skyldes bygging av nytt sykehus ved Rikshospitalet. ',\n",
       "        'language': 'no'},\n",
       "       {'value': 'This is due to the construction of a new hospital at Rikshospitalet.',\n",
       "        'language': 'en'}],\n",
       "      'validityPeriod': {'startTime': '2024-09-16T15:15:00+02:00',\n",
       "       'endTime': '2025-03-22T02:00:00+01:00'}}]},\n",
       "   None]}}"
      ]
     },
     "execution_count": 18,
     "metadata": {},
     "output_type": "execute_result"
    }
   ],
   "source": [
    "response.json()"
   ]
  },
  {
   "cell_type": "code",
   "execution_count": 19,
   "metadata": {},
   "outputs": [],
   "source": [
    "import json\n",
    "from pathlib import Path\n",
    "\n",
    "with Path(\"situations.json\").open(\"w\") as file:\n",
    "    json.dump(response.json(), file)"
   ]
  },
  {
   "cell_type": "code",
   "execution_count": 20,
   "metadata": {},
   "outputs": [
    {
     "name": "stderr",
     "output_type": "stream",
     "text": [
      "\u001b[32m2025-01-23 22:00:27.004\u001b[0m | \u001b[34m\u001b[1mDEBUG   \u001b[0m | \u001b[36mavgangstider.entur_api\u001b[0m:\u001b[36mget_situations\u001b[0m:\u001b[36m86\u001b[0m - \u001b[34m\u001b[1mGetting situations for lines ['RUT:Line:11', 'RUT:Line:17', 'RUT:Line:35'].\u001b[0m\n"
     ]
    }
   ],
   "source": [
    "import pickle\n",
    "\n",
    "with Path(\"situations.pkl\").open(\"wb\") as file:\n",
    "    situations = avgangstider.get_situations(\n",
    "        [\"RUT:Line:11\", \"RUT:Line:17\", \"RUT:Line:35\"]\n",
    "    )\n",
    "    pickle.dump(situations, file)"
   ]
  },
  {
   "cell_type": "code",
   "execution_count": 21,
   "metadata": {},
   "outputs": [
    {
     "data": {
      "text/plain": [
       "1"
      ]
     },
     "execution_count": 21,
     "metadata": {},
     "output_type": "execute_result"
    }
   ],
   "source": [
    "len(situations)"
   ]
  },
  {
   "cell_type": "code",
   "execution_count": 22,
   "metadata": {},
   "outputs": [
    {
     "name": "stderr",
     "output_type": "stream",
     "text": [
      "\u001b[32m2025-01-23 22:00:27.209\u001b[0m | \u001b[34m\u001b[1mDEBUG   \u001b[0m | \u001b[36mavgangstider.entur_api\u001b[0m:\u001b[36mget_situations\u001b[0m:\u001b[36m86\u001b[0m - \u001b[34m\u001b[1mGetting situations for lines ['RUT:Line:1'].\u001b[0m\n",
      "\u001b[32m2025-01-23 22:00:27.341\u001b[0m | \u001b[34m\u001b[1mDEBUG   \u001b[0m | \u001b[36mavgangstider.entur_api\u001b[0m:\u001b[36mget_situations\u001b[0m:\u001b[36m86\u001b[0m - \u001b[34m\u001b[1mGetting situations for lines ['RUT:Line:2'].\u001b[0m\n"
     ]
    },
    {
     "name": "stdout",
     "output_type": "stream",
     "text": [
      "Running for line 1\n",
      "Linje 1: Endret kjøremønster på hverdager \n",
      "Running for line 2\n"
     ]
    },
    {
     "name": "stderr",
     "output_type": "stream",
     "text": [
      "\u001b[32m2025-01-23 22:00:27.470\u001b[0m | \u001b[34m\u001b[1mDEBUG   \u001b[0m | \u001b[36mavgangstider.entur_api\u001b[0m:\u001b[36mget_situations\u001b[0m:\u001b[36m86\u001b[0m - \u001b[34m\u001b[1mGetting situations for lines ['RUT:Line:3'].\u001b[0m\n",
      "\u001b[32m2025-01-23 22:00:27.595\u001b[0m | \u001b[34m\u001b[1mDEBUG   \u001b[0m | \u001b[36mavgangstider.entur_api\u001b[0m:\u001b[36mget_situations\u001b[0m:\u001b[36m86\u001b[0m - \u001b[34m\u001b[1mGetting situations for lines ['RUT:Line:4'].\u001b[0m\n"
     ]
    },
    {
     "name": "stdout",
     "output_type": "stream",
     "text": [
      "Linje 2: Avvikende kjøremønster på enkelte avganger\n",
      "Running for line 3\n",
      "Running for line 4\n"
     ]
    },
    {
     "name": "stderr",
     "output_type": "stream",
     "text": [
      "\u001b[32m2025-01-23 22:00:27.749\u001b[0m | \u001b[34m\u001b[1mDEBUG   \u001b[0m | \u001b[36mavgangstider.entur_api\u001b[0m:\u001b[36mget_situations\u001b[0m:\u001b[36m86\u001b[0m - \u001b[34m\u001b[1mGetting situations for lines ['RUT:Line:5'].\u001b[0m\n",
      "\u001b[32m2025-01-23 22:00:27.865\u001b[0m | \u001b[34m\u001b[1mDEBUG   \u001b[0m | \u001b[36mavgangstider.entur_api\u001b[0m:\u001b[36mget_situations\u001b[0m:\u001b[36m86\u001b[0m - \u001b[34m\u001b[1mGetting situations for lines ['RUT:Line:6'].\u001b[0m\n"
     ]
    },
    {
     "name": "stdout",
     "output_type": "stream",
     "text": [
      "Running for line 5\n",
      "Running for line 6\n"
     ]
    },
    {
     "name": "stderr",
     "output_type": "stream",
     "text": [
      "\u001b[32m2025-01-23 22:00:27.990\u001b[0m | \u001b[34m\u001b[1mDEBUG   \u001b[0m | \u001b[36mavgangstider.entur_api\u001b[0m:\u001b[36mget_situations\u001b[0m:\u001b[36m86\u001b[0m - \u001b[34m\u001b[1mGetting situations for lines ['RUT:Line:7'].\u001b[0m\n",
      "\u001b[32m2025-01-23 22:00:28.121\u001b[0m | \u001b[34m\u001b[1mDEBUG   \u001b[0m | \u001b[36mavgangstider.entur_api\u001b[0m:\u001b[36mget_situations\u001b[0m:\u001b[36m86\u001b[0m - \u001b[34m\u001b[1mGetting situations for lines ['RUT:Line:8'].\u001b[0m\n"
     ]
    },
    {
     "name": "stdout",
     "output_type": "stream",
     "text": [
      "Running for line 7\n",
      "Running for line 8\n"
     ]
    },
    {
     "name": "stderr",
     "output_type": "stream",
     "text": [
      "\u001b[32m2025-01-23 22:00:28.306\u001b[0m | \u001b[34m\u001b[1mDEBUG   \u001b[0m | \u001b[36mavgangstider.entur_api\u001b[0m:\u001b[36mget_situations\u001b[0m:\u001b[36m86\u001b[0m - \u001b[34m\u001b[1mGetting situations for lines ['RUT:Line:9'].\u001b[0m\n",
      "\u001b[32m2025-01-23 22:00:28.438\u001b[0m | \u001b[34m\u001b[1mDEBUG   \u001b[0m | \u001b[36mavgangstider.entur_api\u001b[0m:\u001b[36mget_situations\u001b[0m:\u001b[36m86\u001b[0m - \u001b[34m\u001b[1mGetting situations for lines ['RUT:Line:10'].\u001b[0m\n"
     ]
    },
    {
     "name": "stdout",
     "output_type": "stream",
     "text": [
      "Running for line 9\n",
      "Running for line 10\n"
     ]
    },
    {
     "name": "stderr",
     "output_type": "stream",
     "text": [
      "\u001b[32m2025-01-23 22:00:28.566\u001b[0m | \u001b[34m\u001b[1mDEBUG   \u001b[0m | \u001b[36mavgangstider.entur_api\u001b[0m:\u001b[36mget_situations\u001b[0m:\u001b[36m86\u001b[0m - \u001b[34m\u001b[1mGetting situations for lines ['RUT:Line:11'].\u001b[0m\n",
      "\u001b[32m2025-01-23 22:00:28.698\u001b[0m | \u001b[34m\u001b[1mDEBUG   \u001b[0m | \u001b[36mavgangstider.entur_api\u001b[0m:\u001b[36mget_situations\u001b[0m:\u001b[36m86\u001b[0m - \u001b[34m\u001b[1mGetting situations for lines ['RUT:Line:12'].\u001b[0m\n"
     ]
    },
    {
     "name": "stdout",
     "output_type": "stream",
     "text": [
      "Running for line 11\n",
      "Running for line 12\n"
     ]
    },
    {
     "name": "stderr",
     "output_type": "stream",
     "text": [
      "\u001b[32m2025-01-23 22:00:28.827\u001b[0m | \u001b[34m\u001b[1mDEBUG   \u001b[0m | \u001b[36mavgangstider.entur_api\u001b[0m:\u001b[36mget_situations\u001b[0m:\u001b[36m86\u001b[0m - \u001b[34m\u001b[1mGetting situations for lines ['RUT:Line:13'].\u001b[0m\n",
      "\u001b[32m2025-01-23 22:00:28.956\u001b[0m | \u001b[34m\u001b[1mDEBUG   \u001b[0m | \u001b[36mavgangstider.entur_api\u001b[0m:\u001b[36mget_situations\u001b[0m:\u001b[36m86\u001b[0m - \u001b[34m\u001b[1mGetting situations for lines ['RUT:Line:14'].\u001b[0m\n"
     ]
    },
    {
     "name": "stdout",
     "output_type": "stream",
     "text": [
      "Running for line 13\n",
      "Running for line 14\n"
     ]
    },
    {
     "name": "stderr",
     "output_type": "stream",
     "text": [
      "\u001b[32m2025-01-23 22:00:29.081\u001b[0m | \u001b[34m\u001b[1mDEBUG   \u001b[0m | \u001b[36mavgangstider.entur_api\u001b[0m:\u001b[36mget_situations\u001b[0m:\u001b[36m86\u001b[0m - \u001b[34m\u001b[1mGetting situations for lines ['RUT:Line:15'].\u001b[0m\n",
      "\u001b[32m2025-01-23 22:00:29.214\u001b[0m | \u001b[34m\u001b[1mDEBUG   \u001b[0m | \u001b[36mavgangstider.entur_api\u001b[0m:\u001b[36mget_situations\u001b[0m:\u001b[36m86\u001b[0m - \u001b[34m\u001b[1mGetting situations for lines ['RUT:Line:16'].\u001b[0m\n"
     ]
    },
    {
     "name": "stdout",
     "output_type": "stream",
     "text": [
      "Running for line 15\n",
      "Running for line 16\n"
     ]
    },
    {
     "name": "stderr",
     "output_type": "stream",
     "text": [
      "\u001b[32m2025-01-23 22:00:29.345\u001b[0m | \u001b[34m\u001b[1mDEBUG   \u001b[0m | \u001b[36mavgangstider.entur_api\u001b[0m:\u001b[36mget_situations\u001b[0m:\u001b[36m86\u001b[0m - \u001b[34m\u001b[1mGetting situations for lines ['RUT:Line:17'].\u001b[0m\n",
      "\u001b[32m2025-01-23 22:00:29.475\u001b[0m | \u001b[34m\u001b[1mDEBUG   \u001b[0m | \u001b[36mavgangstider.entur_api\u001b[0m:\u001b[36mget_situations\u001b[0m:\u001b[36m86\u001b[0m - \u001b[34m\u001b[1mGetting situations for lines ['RUT:Line:18'].\u001b[0m\n"
     ]
    },
    {
     "name": "stdout",
     "output_type": "stream",
     "text": [
      "Running for line 17\n",
      "Buss for trikk John Colletts plass - Rikshospitalet (Linje 17 og 18)\n",
      "Running for line 18\n"
     ]
    },
    {
     "name": "stderr",
     "output_type": "stream",
     "text": [
      "\u001b[32m2025-01-23 22:00:29.626\u001b[0m | \u001b[34m\u001b[1mDEBUG   \u001b[0m | \u001b[36mavgangstider.entur_api\u001b[0m:\u001b[36mget_situations\u001b[0m:\u001b[36m86\u001b[0m - \u001b[34m\u001b[1mGetting situations for lines ['RUT:Line:19'].\u001b[0m\n",
      "\u001b[32m2025-01-23 22:00:29.752\u001b[0m | \u001b[34m\u001b[1mDEBUG   \u001b[0m | \u001b[36mavgangstider.entur_api\u001b[0m:\u001b[36mget_situations\u001b[0m:\u001b[36m86\u001b[0m - \u001b[34m\u001b[1mGetting situations for lines ['RUT:Line:20'].\u001b[0m\n"
     ]
    },
    {
     "name": "stdout",
     "output_type": "stream",
     "text": [
      "Buss for trikk John Colletts plass - Rikshospitalet (Linje 17 og 18)\n",
      "Running for line 19\n",
      "Running for line 20\n"
     ]
    },
    {
     "name": "stderr",
     "output_type": "stream",
     "text": [
      "\u001b[32m2025-01-23 22:00:29.886\u001b[0m | \u001b[34m\u001b[1mDEBUG   \u001b[0m | \u001b[36mavgangstider.entur_api\u001b[0m:\u001b[36mget_situations\u001b[0m:\u001b[36m86\u001b[0m - \u001b[34m\u001b[1mGetting situations for lines ['RUT:Line:21'].\u001b[0m\n",
      "\u001b[32m2025-01-23 22:00:30.012\u001b[0m | \u001b[34m\u001b[1mDEBUG   \u001b[0m | \u001b[36mavgangstider.entur_api\u001b[0m:\u001b[36mget_situations\u001b[0m:\u001b[36m86\u001b[0m - \u001b[34m\u001b[1mGetting situations for lines ['RUT:Line:22'].\u001b[0m\n"
     ]
    },
    {
     "name": "stdout",
     "output_type": "stream",
     "text": [
      "Running for line 21\n",
      "Running for line 22\n"
     ]
    },
    {
     "name": "stderr",
     "output_type": "stream",
     "text": [
      "\u001b[32m2025-01-23 22:00:30.144\u001b[0m | \u001b[34m\u001b[1mDEBUG   \u001b[0m | \u001b[36mavgangstider.entur_api\u001b[0m:\u001b[36mget_situations\u001b[0m:\u001b[36m86\u001b[0m - \u001b[34m\u001b[1mGetting situations for lines ['RUT:Line:23'].\u001b[0m\n",
      "\u001b[32m2025-01-23 22:00:30.276\u001b[0m | \u001b[34m\u001b[1mDEBUG   \u001b[0m | \u001b[36mavgangstider.entur_api\u001b[0m:\u001b[36mget_situations\u001b[0m:\u001b[36m86\u001b[0m - \u001b[34m\u001b[1mGetting situations for lines ['RUT:Line:24'].\u001b[0m\n"
     ]
    },
    {
     "name": "stdout",
     "output_type": "stream",
     "text": [
      "Running for line 23\n",
      "Running for line 24\n"
     ]
    },
    {
     "name": "stderr",
     "output_type": "stream",
     "text": [
      "\u001b[32m2025-01-23 22:00:30.407\u001b[0m | \u001b[34m\u001b[1mDEBUG   \u001b[0m | \u001b[36mavgangstider.entur_api\u001b[0m:\u001b[36mget_situations\u001b[0m:\u001b[36m86\u001b[0m - \u001b[34m\u001b[1mGetting situations for lines ['RUT:Line:25'].\u001b[0m\n"
     ]
    },
    {
     "name": "stdout",
     "output_type": "stream",
     "text": [
      "Running for line 25\n",
      "Linje 25 mot Haugerud T har omkjøring.\n"
     ]
    }
   ],
   "source": [
    "for line in range(1, 500):\n",
    "    print(f\"Running for line {line}\")\n",
    "    sits = avgangstider.get_situations([f\"RUT:Line:{line}\"])\n",
    "    if sits:\n",
    "        print(sits[0].summary)\n",
    "    if len(sits) > 1:\n",
    "        break"
   ]
  },
  {
   "cell_type": "code",
   "execution_count": 23,
   "metadata": {},
   "outputs": [],
   "source": [
    "lines = [\"RUT:Line:1\", \"RUT:Line:3\"]"
   ]
  },
  {
   "cell_type": "code",
   "execution_count": 24,
   "metadata": {},
   "outputs": [
    {
     "data": {
      "text/plain": [
       "'[\"RUT:Line:1\", \"RUT:Line:3\"]'"
      ]
     },
     "execution_count": 24,
     "metadata": {},
     "output_type": "execute_result"
    }
   ],
   "source": [
    "str(lines).replace(\"'\", '\"')"
   ]
  },
  {
   "cell_type": "code",
   "execution_count": 25,
   "metadata": {},
   "outputs": [],
   "source": [
    "situations = []\n",
    "current_situation = 0"
   ]
  },
  {
   "cell_type": "code",
   "execution_count": 26,
   "metadata": {},
   "outputs": [
    {
     "name": "stdout",
     "output_type": "stream",
     "text": [
      "0\n"
     ]
    }
   ],
   "source": [
    "if situations:\n",
    "    print(situations[current_situation])\n",
    "    current_situation = (current_situation + 1) % len(situations)\n",
    "print(current_situation)"
   ]
  }
 ],
 "metadata": {
  "kernelspec": {
   "display_name": ".venv",
   "language": "python",
   "name": "python3"
  },
  "language_info": {
   "codemirror_mode": {
    "name": "ipython",
    "version": 3
   },
   "file_extension": ".py",
   "mimetype": "text/x-python",
   "name": "python",
   "nbconvert_exporter": "python",
   "pygments_lexer": "ipython3",
   "version": "3.13.1"
  },
  "toc": {
   "base_numbering": 1,
   "nav_menu": {},
   "number_sections": true,
   "sideBar": true,
   "skip_h1_title": false,
   "title_cell": "Table of Contents",
   "title_sidebar": "Contents",
   "toc_cell": false,
   "toc_position": {},
   "toc_section_display": true,
   "toc_window_display": false
  }
 },
 "nbformat": 4,
 "nbformat_minor": 2
}
