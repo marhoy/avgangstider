{
 "cells": [
  {
   "cell_type": "code",
   "execution_count": 2,
   "metadata": {
    "ExecuteTime": {
     "end_time": "2019-03-26T17:28:54.153347Z",
     "start_time": "2019-03-26T17:28:54.093398Z"
    }
   },
   "outputs": [],
   "source": [
    "%load_ext autoreload\n",
    "%autoreload 2"
   ]
  },
  {
   "cell_type": "code",
   "execution_count": 3,
   "metadata": {},
   "outputs": [],
   "source": [
    "import rutertider"
   ]
  },
  {
   "cell_type": "markdown",
   "metadata": {},
   "source": [
    "# Departures"
   ]
  },
  {
   "cell_type": "code",
   "execution_count": null,
   "metadata": {},
   "outputs": [],
   "source": [
    "rutertider.get_departures(\"NSR:StopPlace:5968\",  max_departures=10, platforms=['NSR:Quay:10949'])"
   ]
  },
  {
   "cell_type": "code",
   "execution_count": null,
   "metadata": {},
   "outputs": [],
   "source": [
    "rutertider.get_departures(\"NSR:StopPlace:59516\", max_departures=10, line_ids=['RUT:Line:21'])"
   ]
  },
  {
   "cell_type": "code",
   "execution_count": null,
   "metadata": {},
   "outputs": [],
   "source": [
    "rutertider.get_departures(stop_id=\"NSR:StopPlace:5968\", platforms=['NSR:Quay:10949'])"
   ]
  },
  {
   "cell_type": "code",
   "execution_count": null,
   "metadata": {},
   "outputs": [],
   "source": [
    "rutertider.get_departures(\"NSR:StopPlace:59516\", max_departures=10)"
   ]
  },
  {
   "cell_type": "code",
   "execution_count": null,
   "metadata": {},
   "outputs": [],
   "source": [
    "rutertider.get_departures(\"NSR:StopPlace:59516\", line_ids=[\"RUT:Line:21\", \"RUT:Line:3\"], max_departures=20, platforms=['NSR:Quay:11134'])"
   ]
  },
  {
   "cell_type": "code",
   "execution_count": null,
   "metadata": {},
   "outputs": [],
   "source": [
    "import rutertider.entur_query\n",
    "query = rutertider.entur_query.create_departure_query_whitelist(\"NSR:StopPlace:59516\", line_ids=[\"RUT:Line:21\", \"RUT:Line:3\"])\n",
    "response = rutertider.entur_query.journey_planner_api(query)\n",
    "response.json()"
   ]
  },
  {
   "cell_type": "markdown",
   "metadata": {},
   "source": [
    "# Situations"
   ]
  },
  {
   "cell_type": "code",
   "execution_count": 6,
   "metadata": {},
   "outputs": [],
   "source": [
    "import pickle"
   ]
  },
  {
   "cell_type": "code",
   "execution_count": 11,
   "metadata": {},
   "outputs": [
    {
     "name": "stderr",
     "output_type": "stream",
     "text": [
      "[DEBUG] rutertider.entur_api(124): Getting situations for lines ['RUT:Line:1', 'RUT:Line:35']\n"
     ]
    },
    {
     "data": {
      "text/plain": [
       "[Situation(line_id='RUT:Line:1', line_name='1', transport_mode='metro', bg_color='EC700C', fg_color='FFFFFF', summary='Buss for bane Majorstuen-Frognerseteren etter kl. 19:00'),\n",
       " Situation(line_id='RUT:Line:35', line_name='35', transport_mode='bus', bg_color='E60000', fg_color='FFFFFF', summary='Innstilt ut september')]"
      ]
     },
     "execution_count": 11,
     "metadata": {},
     "output_type": "execute_result"
    }
   ],
   "source": [
    "rutertider.get_situations([\"RUT:Line:1\", \"RUT:Line:35\"])"
   ]
  },
  {
   "cell_type": "code",
   "execution_count": null,
   "metadata": {},
   "outputs": [],
   "source": []
  },
  {
   "cell_type": "code",
   "execution_count": null,
   "metadata": {},
   "outputs": [],
   "source": [
    "import rutertider.entur_query\n",
    "query = rutertider.entur_query.create_situation_query([])\n",
    "response = rutertider.entur_query.journey_planner_api(query)\n",
    "j = response.json()"
   ]
  },
  {
   "cell_type": "code",
   "execution_count": null,
   "metadata": {},
   "outputs": [],
   "source": [
    "j.get('data')"
   ]
  },
  {
   "cell_type": "code",
   "execution_count": null,
   "metadata": {},
   "outputs": [],
   "source": [
    "for line in response.json()['data']['lines']:\n",
    "    print(\"Line: \", line)"
   ]
  },
  {
   "cell_type": "markdown",
   "metadata": {},
   "source": [
    "# Save departures to a file"
   ]
  },
  {
   "cell_type": "code",
   "execution_count": 14,
   "metadata": {},
   "outputs": [],
   "source": [
    "from rutertider.entur_query import (create_departure_query,\n",
    "                                    create_departure_query_whitelist,\n",
    "                                    create_situation_query,\n",
    "                                    journey_planner_api)"
   ]
  },
  {
   "cell_type": "code",
   "execution_count": 16,
   "metadata": {},
   "outputs": [
    {
     "data": {
      "text/plain": [
       "{'data': {'stopPlace': {'name': 'Jernbanetorget',\n",
       "   'estimatedCalls': [{'expectedArrivalTime': '2019-09-16T22:19:30+0200',\n",
       "     'expectedDepartureTime': '2019-09-16T22:19:30+0200',\n",
       "     'quay': {'id': 'NSR:Quay:7183', 'description': 'Retning øst'},\n",
       "     'destinationDisplay': {'frontText': 'Helsfyr'},\n",
       "     'serviceJourney': {'line': {'id': 'RUT:Line:1',\n",
       "       'publicCode': '1',\n",
       "       'presentation': {'colour': 'EC700C', 'textColour': 'FFFFFF'}}}},\n",
       "    {'expectedArrivalTime': '2019-09-16T22:22:00+0200',\n",
       "     'expectedDepartureTime': '2019-09-16T22:22:00+0200',\n",
       "     'quay': {'id': 'NSR:Quay:7184', 'description': 'Retning vest'},\n",
       "     'destinationDisplay': {'frontText': 'Majorstuen'},\n",
       "     'serviceJourney': {'line': {'id': 'RUT:Line:1',\n",
       "       'publicCode': '1',\n",
       "       'presentation': {'colour': 'EC700C', 'textColour': 'FFFFFF'}}}},\n",
       "    {'expectedArrivalTime': '2019-09-16T22:30:56+0200',\n",
       "     'expectedDepartureTime': '2019-09-16T22:30:56+0200',\n",
       "     'quay': {'id': 'NSR:Quay:7203', 'description': ''},\n",
       "     'destinationDisplay': {'frontText': 'Vippetangen'},\n",
       "     'serviceJourney': {'line': {'id': 'RUT:Line:60',\n",
       "       'publicCode': '60',\n",
       "       'presentation': {'colour': 'E60000', 'textColour': 'FFFFFF'}}}},\n",
       "    {'expectedArrivalTime': '2019-09-16T22:34:30+0200',\n",
       "     'expectedDepartureTime': '2019-09-16T22:34:30+0200',\n",
       "     'quay': {'id': 'NSR:Quay:7183', 'description': 'Retning øst'},\n",
       "     'destinationDisplay': {'frontText': 'Helsfyr'},\n",
       "     'serviceJourney': {'line': {'id': 'RUT:Line:1',\n",
       "       'publicCode': '1',\n",
       "       'presentation': {'colour': 'EC700C', 'textColour': 'FFFFFF'}}}},\n",
       "    {'expectedArrivalTime': '2019-09-16T22:37:00+0200',\n",
       "     'expectedDepartureTime': '2019-09-16T22:37:00+0200',\n",
       "     'quay': {'id': 'NSR:Quay:7184', 'description': 'Retning vest'},\n",
       "     'destinationDisplay': {'frontText': 'Majorstuen'},\n",
       "     'serviceJourney': {'line': {'id': 'RUT:Line:1',\n",
       "       'publicCode': '1',\n",
       "       'presentation': {'colour': 'EC700C', 'textColour': 'FFFFFF'}}}}]}}}"
      ]
     },
     "execution_count": 16,
     "metadata": {},
     "output_type": "execute_result"
    }
   ],
   "source": [
    "query = create_departure_query_whitelist(\n",
    "    stop_id='NSR:StopPlace:58366',\n",
    "    line_ids=['RUT:Line:1', 'RUT:Line:60'])\n",
    "response = journey_planner_api(query)\n",
    "response.json()"
   ]
  },
  {
   "cell_type": "code",
   "execution_count": 21,
   "metadata": {},
   "outputs": [
    {
     "data": {
      "text/plain": [
       "'RUT:Line:1'"
      ]
     },
     "execution_count": 21,
     "metadata": {},
     "output_type": "execute_result"
    }
   ],
   "source": [
    "response.json()['data']['stopPlace']['estimatedCalls'][0]['serviceJourney']['line']['id']"
   ]
  },
  {
   "cell_type": "code",
   "execution_count": null,
   "metadata": {},
   "outputs": [],
   "source": []
  },
  {
   "cell_type": "markdown",
   "metadata": {},
   "source": [
    "# Save situation json to file"
   ]
  },
  {
   "cell_type": "code",
   "execution_count": null,
   "metadata": {},
   "outputs": [],
   "source": [
    "import rutertider.entur_query\n",
    "query = rutertider.entur_query.create_situation_query([\"RUT:Line:1\", \"RUT:Line:35\"])\n",
    "response = rutertider.entur_query.journey_planner_api(query)\n",
    "response.json()"
   ]
  },
  {
   "cell_type": "code",
   "execution_count": null,
   "metadata": {},
   "outputs": [],
   "source": [
    "import json\n",
    "\n",
    "with open(\"situations.json\", \"w\") as file:\n",
    "    json.dump(response.json(), file)"
   ]
  },
  {
   "cell_type": "code",
   "execution_count": 13,
   "metadata": {},
   "outputs": [
    {
     "name": "stderr",
     "output_type": "stream",
     "text": [
      "[DEBUG] rutertider.entur_api(124): Getting situations for lines ['RUT:Line:1', 'RUT:Line:35']\n"
     ]
    }
   ],
   "source": [
    "import pickle\n",
    "\n",
    "with open(\"situations.pkl\", \"wb\") as file: \n",
    "    pickle.dump(rutertider.get_situations([\"RUT:Line:1\", \"RUT:Line:35\"]), file)"
   ]
  },
  {
   "cell_type": "code",
   "execution_count": null,
   "metadata": {},
   "outputs": [],
   "source": [
    "for line in range(1, 500):\n",
    "    print(\"Running for line {}\".format(line))\n",
    "    sits = rutertider.get_situations(\"RUT:Line:{}\".format(line))\n",
    "    if sits:\n",
    "        print(sits[0].summary)\n",
    "    if len(sits) > 1:\n",
    "        break"
   ]
  },
  {
   "cell_type": "code",
   "execution_count": null,
   "metadata": {},
   "outputs": [],
   "source": [
    "lines = [\"RUT:Line:1\", \"RUT:Line:3\"]"
   ]
  },
  {
   "cell_type": "code",
   "execution_count": null,
   "metadata": {},
   "outputs": [],
   "source": [
    "str(lines).replace(\"'\",'\"')"
   ]
  },
  {
   "cell_type": "code",
   "execution_count": null,
   "metadata": {},
   "outputs": [],
   "source": []
  }
 ],
 "metadata": {
  "kernelspec": {
   "display_name": "Python 3",
   "language": "python",
   "name": "python3"
  },
  "language_info": {
   "codemirror_mode": {
    "name": "ipython",
    "version": 3
   },
   "file_extension": ".py",
   "mimetype": "text/x-python",
   "name": "python",
   "nbconvert_exporter": "python",
   "pygments_lexer": "ipython3",
   "version": "3.7.4"
  },
  "toc": {
   "base_numbering": 1,
   "nav_menu": {},
   "number_sections": true,
   "sideBar": true,
   "skip_h1_title": false,
   "title_cell": "Table of Contents",
   "title_sidebar": "Contents",
   "toc_cell": false,
   "toc_position": {},
   "toc_section_display": true,
   "toc_window_display": false
  }
 },
 "nbformat": 4,
 "nbformat_minor": 2
}
