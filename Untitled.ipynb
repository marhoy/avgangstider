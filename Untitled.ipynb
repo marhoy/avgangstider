{
 "cells": [
  {
   "cell_type": "code",
   "execution_count": 110,
   "metadata": {
    "ExecuteTime": {
     "end_time": "2019-03-26T17:28:54.153347Z",
     "start_time": "2019-03-26T17:28:54.093398Z"
    }
   },
   "outputs": [
    {
     "name": "stdout",
     "output_type": "stream",
     "text": [
      "The autoreload extension is already loaded. To reload it, use:\n",
      "  %reload_ext autoreload\n"
     ]
    }
   ],
   "source": [
    "%load_ext autoreload\n",
    "%autoreload 2"
   ]
  },
  {
   "cell_type": "code",
   "execution_count": 111,
   "metadata": {
    "ExecuteTime": {
     "end_time": "2019-03-26T17:28:55.945051Z",
     "start_time": "2019-03-26T17:28:55.912898Z"
    }
   },
   "outputs": [],
   "source": [
    "from rutertider import entur_api\n",
    "import rutertider"
   ]
  },
  {
   "cell_type": "code",
   "execution_count": 145,
   "metadata": {},
   "outputs": [
    {
     "data": {
      "text/plain": [
       "['Endringer for T-banen i påsken',\n",
       " 'Stengt for T-bane mellom Majorstuen og Grønland']"
      ]
     },
     "execution_count": 145,
     "metadata": {},
     "output_type": "execute_result"
    }
   ],
   "source": [
    "entur_api.get_situations()"
   ]
  },
  {
   "cell_type": "code",
   "execution_count": 259,
   "metadata": {},
   "outputs": [],
   "source": [
    "def get_situations():\n",
    "    print(\"Getting new situations\")\n",
    "    return [1,2,3]"
   ]
  },
  {
   "cell_type": "code",
   "execution_count": 260,
   "metadata": {},
   "outputs": [],
   "source": [
    "def _deviations(line):\n",
    "    while True:\n",
    "        situations = get_situations() or ['']\n",
    "        for sit in situations:\n",
    "            yield sit"
   ]
  },
  {
   "cell_type": "code",
   "execution_count": 261,
   "metadata": {},
   "outputs": [],
   "source": [
    "d = _deviations(line=entur_api.DEFAULT_LINE)"
   ]
  },
  {
   "cell_type": "code",
   "execution_count": 262,
   "metadata": {},
   "outputs": [],
   "source": [
    "def deviations():\n",
    "    return next(d)"
   ]
  },
  {
   "cell_type": "code",
   "execution_count": 273,
   "metadata": {},
   "outputs": [
    {
     "data": {
      "text/plain": [
       "2"
      ]
     },
     "execution_count": 273,
     "metadata": {},
     "output_type": "execute_result"
    }
   ],
   "source": [
    "deviations()"
   ]
  },
  {
   "cell_type": "code",
   "execution_count": 253,
   "metadata": {},
   "outputs": [
    {
     "name": "stdout",
     "output_type": "stream",
     "text": [
      "Getting new situations\n"
     ]
    },
    {
     "data": {
      "text/plain": [
       "''"
      ]
     },
     "execution_count": 253,
     "metadata": {},
     "output_type": "execute_result"
    }
   ],
   "source": [
    "next(d)"
   ]
  },
  {
   "cell_type": "code",
   "execution_count": 241,
   "metadata": {},
   "outputs": [
    {
     "ename": "SyntaxError",
     "evalue": "invalid syntax (<ipython-input-241-6e3cf8f72c47>, line 4)",
     "output_type": "error",
     "traceback": [
      "\u001b[0;36m  File \u001b[0;32m\"<ipython-input-241-6e3cf8f72c47>\"\u001b[0;36m, line \u001b[0;32m4\u001b[0m\n\u001b[0;31m    except\u001b[0m\n\u001b[0m          ^\u001b[0m\n\u001b[0;31mSyntaxError\u001b[0m\u001b[0;31m:\u001b[0m invalid syntax\n"
     ]
    }
   ],
   "source": [
    "def test():\n",
    "    try:\n",
    "        return next(d)\n",
    "    except"
   ]
  },
  {
   "cell_type": "code",
   "execution_count": null,
   "metadata": {},
   "outputs": [],
   "source": []
  },
  {
   "cell_type": "code",
   "execution_count": 92,
   "metadata": {},
   "outputs": [],
   "source": [
    "def dev():\n",
    "    g = rutertider._deviations(line=entur_api.DEFAULT_LINE)\n",
    "    yield next(g)"
   ]
  },
  {
   "cell_type": "code",
   "execution_count": 108,
   "metadata": {},
   "outputs": [
    {
     "data": {
      "text/plain": [
       "'Endringer for T-banen i påsken'"
      ]
     },
     "execution_count": 108,
     "metadata": {},
     "output_type": "execute_result"
    }
   ],
   "source": [
    "d = dev()\n",
    "next(d)"
   ]
  },
  {
   "cell_type": "code",
   "execution_count": 109,
   "metadata": {},
   "outputs": [
    {
     "ename": "StopIteration",
     "evalue": "",
     "output_type": "error",
     "traceback": [
      "\u001b[0;31m---------------------------------------------------------------------------\u001b[0m",
      "\u001b[0;31mStopIteration\u001b[0m                             Traceback (most recent call last)",
      "\u001b[0;32m<ipython-input-109-9b2daf1403f5>\u001b[0m in \u001b[0;36m<module>\u001b[0;34m\u001b[0m\n\u001b[0;32m----> 1\u001b[0;31m \u001b[0mnext\u001b[0m\u001b[0;34m(\u001b[0m\u001b[0md\u001b[0m\u001b[0;34m)\u001b[0m\u001b[0;34m\u001b[0m\u001b[0;34m\u001b[0m\u001b[0m\n\u001b[0m",
      "\u001b[0;31mStopIteration\u001b[0m: "
     ]
    }
   ],
   "source": [
    "next(d)"
   ]
  },
  {
   "cell_type": "code",
   "execution_count": 63,
   "metadata": {},
   "outputs": [],
   "source": [
    "g = rutertider._deviations(line=entur_api.DEFAULT_LINE)"
   ]
  },
  {
   "cell_type": "code",
   "execution_count": 90,
   "metadata": {},
   "outputs": [
    {
     "data": {
      "text/plain": [
       "<generator object dev at 0x10e818f48>"
      ]
     },
     "execution_count": 90,
     "metadata": {},
     "output_type": "execute_result"
    }
   ],
   "source": [
    "dev()"
   ]
  },
  {
   "cell_type": "code",
   "execution_count": 46,
   "metadata": {},
   "outputs": [],
   "source": [
    "def _gen():\n",
    "    sit = entur_api.get_situations(line=entur_api.DEFAULT_LINE)\n",
    "    for s in sit:\n",
    "        yield s"
   ]
  },
  {
   "cell_type": "code",
   "execution_count": 47,
   "metadata": {},
   "outputs": [],
   "source": []
  },
  {
   "cell_type": "code",
   "execution_count": 52,
   "metadata": {},
   "outputs": [],
   "source": [
    "def sit():\n",
    "    g = _gen()\n",
    "    try:\n",
    "        yield next(g)\n",
    "    except StopIteration:\n",
    "        g = _gen()\n",
    "        yield next(g)"
   ]
  },
  {
   "cell_type": "code",
   "execution_count": 53,
   "metadata": {},
   "outputs": [],
   "source": [
    "s = sit()"
   ]
  },
  {
   "cell_type": "code",
   "execution_count": 58,
   "metadata": {},
   "outputs": [
    {
     "ename": "StopIteration",
     "evalue": "",
     "output_type": "error",
     "traceback": [
      "\u001b[0;31m---------------------------------------------------------------------------\u001b[0m",
      "\u001b[0;31mStopIteration\u001b[0m                             Traceback (most recent call last)",
      "\u001b[0;32m<ipython-input-58-61c30b5fe1d5>\u001b[0m in \u001b[0;36m<module>\u001b[0;34m\u001b[0m\n\u001b[0;32m----> 1\u001b[0;31m \u001b[0mnext\u001b[0m\u001b[0;34m(\u001b[0m\u001b[0ms\u001b[0m\u001b[0;34m)\u001b[0m\u001b[0;34m\u001b[0m\u001b[0;34m\u001b[0m\u001b[0m\n\u001b[0m",
      "\u001b[0;31mStopIteration\u001b[0m: "
     ]
    }
   ],
   "source": [
    "next(s)"
   ]
  },
  {
   "cell_type": "code",
   "execution_count": 34,
   "metadata": {},
   "outputs": [],
   "source": [
    "a = itertools.cycle(rutertider._deviations(line=entur_api.DEFAULT_LINE))"
   ]
  },
  {
   "cell_type": "code",
   "execution_count": 40,
   "metadata": {},
   "outputs": [
    {
     "data": {
      "text/plain": [
       "'Stengt for T-bane mellom Majorstuen og Grønland'"
      ]
     },
     "execution_count": 40,
     "metadata": {},
     "output_type": "execute_result"
    }
   ],
   "source": [
    "next(a)"
   ]
  },
  {
   "cell_type": "code",
   "execution_count": 24,
   "metadata": {},
   "outputs": [
    {
     "data": {
      "text/plain": [
       "<generator object _deviations at 0x10e8182a0>"
      ]
     },
     "execution_count": 24,
     "metadata": {},
     "output_type": "execute_result"
    }
   ],
   "source": [
    "rutertider._deviations(line=entur_api.DEFAULT_LINE)"
   ]
  },
  {
   "cell_type": "code",
   "execution_count": null,
   "metadata": {},
   "outputs": [],
   "source": []
  },
  {
   "cell_type": "code",
   "execution_count": null,
   "metadata": {},
   "outputs": [],
   "source": []
  },
  {
   "cell_type": "code",
   "execution_count": 3,
   "metadata": {
    "ExecuteTime": {
     "end_time": "2019-03-26T17:29:34.299563Z",
     "start_time": "2019-03-26T17:29:33.943972Z"
    }
   },
   "outputs": [
    {
     "data": {
      "text/plain": [
       "[{'line_name': '3',\n",
       "  'line_color': 'EC700C',\n",
       "  'destination': 'Stortinget (?)',\n",
       "  'departure_time': '16 min'},\n",
       " {'line_name': '3',\n",
       "  'line_color': 'EC700C',\n",
       "  'destination': 'Mortensrud (?)',\n",
       "  'departure_time': '17 min'},\n",
       " {'line_name': '3',\n",
       "  'line_color': 'EC700C',\n",
       "  'destination': 'Stortinget (?)',\n",
       "  'departure_time': '17:36'},\n",
       " {'line_name': '3',\n",
       "  'line_color': 'EC700C',\n",
       "  'destination': 'Mortensrud (?)',\n",
       "  'departure_time': '17:37'},\n",
       " {'line_name': '3',\n",
       "  'line_color': 'EC700C',\n",
       "  'destination': 'Stortinget (?)',\n",
       "  'departure_time': '17:51'},\n",
       " {'line_name': '3',\n",
       "  'line_color': 'EC700C',\n",
       "  'destination': 'Mortensrud (?)',\n",
       "  'departure_time': '17:52'},\n",
       " {'line_name': '3',\n",
       "  'line_color': 'EC700C',\n",
       "  'destination': 'Stortinget (?)',\n",
       "  'departure_time': '18:06'},\n",
       " {'line_name': '3',\n",
       "  'line_color': 'EC700C',\n",
       "  'destination': 'Mortensrud (?)',\n",
       "  'departure_time': '18:07'},\n",
       " {'line_name': '3',\n",
       "  'line_color': 'EC700C',\n",
       "  'destination': 'Mortensrud (?)',\n",
       "  'departure_time': '18:13'},\n",
       " {'line_name': '3',\n",
       "  'line_color': 'EC700C',\n",
       "  'destination': 'Kolsås (?)',\n",
       "  'departure_time': '18:15'},\n",
       " {'line_name': '3',\n",
       "  'line_color': 'EC700C',\n",
       "  'destination': 'Stortinget (?)',\n",
       "  'departure_time': '18:21'},\n",
       " {'line_name': '3',\n",
       "  'line_color': 'EC700C',\n",
       "  'destination': 'Mortensrud (?)',\n",
       "  'departure_time': '18:22'},\n",
       " {'line_name': '3',\n",
       "  'line_color': 'EC700C',\n",
       "  'destination': 'Mortensrud (?)',\n",
       "  'departure_time': '18:28'},\n",
       " {'line_name': '3',\n",
       "  'line_color': 'EC700C',\n",
       "  'destination': 'Kolsås (?)',\n",
       "  'departure_time': '18:30'},\n",
       " {'line_name': '3',\n",
       "  'line_color': 'EC700C',\n",
       "  'destination': 'Stortinget (?)',\n",
       "  'departure_time': '18:36'},\n",
       " {'line_name': '3',\n",
       "  'line_color': 'EC700C',\n",
       "  'destination': 'Mortensrud (?)',\n",
       "  'departure_time': '18:37'},\n",
       " {'line_name': '3',\n",
       "  'line_color': 'EC700C',\n",
       "  'destination': 'Mortensrud (?)',\n",
       "  'departure_time': '18:43'},\n",
       " {'line_name': '3',\n",
       "  'line_color': 'EC700C',\n",
       "  'destination': 'Kolsås (?)',\n",
       "  'departure_time': '18:45'},\n",
       " {'line_name': '3',\n",
       "  'line_color': 'EC700C',\n",
       "  'destination': 'Stortinget (?)',\n",
       "  'departure_time': '18:51'},\n",
       " {'line_name': '3',\n",
       "  'line_color': 'EC700C',\n",
       "  'destination': 'Mortensrud (?)',\n",
       "  'departure_time': '18:52'},\n",
       " {'line_name': '3',\n",
       "  'line_color': 'EC700C',\n",
       "  'destination': 'Mortensrud (?)',\n",
       "  'departure_time': '18:58'},\n",
       " {'line_name': '3',\n",
       "  'line_color': 'EC700C',\n",
       "  'destination': 'Kolsås (?)',\n",
       "  'departure_time': '19:00'}]"
      ]
     },
     "execution_count": 3,
     "metadata": {},
     "output_type": "execute_result"
    }
   ],
   "source": [
    "ruter_api.get_ruter_departures()"
   ]
  },
  {
   "cell_type": "code",
   "execution_count": 4,
   "metadata": {},
   "outputs": [],
   "source": [
    "from rutertider import entur_api"
   ]
  },
  {
   "cell_type": "code",
   "execution_count": 34,
   "metadata": {},
   "outputs": [
    {
     "data": {
      "text/plain": [
       "[{'line_name': '4',\n",
       "  'line_color': 'EC700C',\n",
       "  'destination': 'Vestli via Majorstuen',\n",
       "  'departure_time': '1 min'},\n",
       " {'line_name': '3',\n",
       "  'line_color': 'EC700C',\n",
       "  'destination': 'Mortensrud',\n",
       "  'departure_time': '2 min'},\n",
       " {'line_name': '5',\n",
       "  'line_color': 'EC700C',\n",
       "  'destination': 'Vestli',\n",
       "  'departure_time': '3 min'},\n",
       " {'line_name': '2',\n",
       "  'line_color': 'EC700C',\n",
       "  'destination': 'Østerås',\n",
       "  'departure_time': '4 min'},\n",
       " {'line_name': '1',\n",
       "  'line_color': 'EC700C',\n",
       "  'destination': 'Helsfyr',\n",
       "  'departure_time': '6 min'},\n",
       " {'line_name': '5',\n",
       "  'line_color': 'EC700C',\n",
       "  'destination': 'Sognsvann',\n",
       "  'departure_time': '6 min'},\n",
       " {'line_name': '5',\n",
       "  'line_color': 'EC700C',\n",
       "  'destination': 'Ringen via Tøyen',\n",
       "  'departure_time': '7 min'},\n",
       " {'line_name': '1',\n",
       "  'line_color': 'EC700C',\n",
       "  'destination': 'Frognerseteren',\n",
       "  'departure_time': '8 min'},\n",
       " {'line_name': '2',\n",
       "  'line_color': 'EC700C',\n",
       "  'destination': 'Ellingsrudåsen',\n",
       "  'departure_time': '10 min'},\n",
       " {'line_name': '5',\n",
       "  'line_color': 'EC700C',\n",
       "  'destination': 'Ringen via Majorstuen',\n",
       "  'departure_time': '10 min'}]"
      ]
     },
     "execution_count": 34,
     "metadata": {},
     "output_type": "execute_result"
    }
   ],
   "source": [
    "entur_api.get_departures(stopid='NSR:StopPlace:3990')"
   ]
  },
  {
   "cell_type": "code",
   "execution_count": 6,
   "metadata": {},
   "outputs": [],
   "source": [
    "import requests"
   ]
  },
  {
   "cell_type": "code",
   "execution_count": 10,
   "metadata": {},
   "outputs": [],
   "source": [
    "URL = 'https://api.entur.io/journey-planner/v2/graphql'\n",
    "headers = {'ET-Client-Name': 'marhoy - dashboard'}\n",
    "query = entur_api.QUERY.replace('STOP_PLACE', '\"{}\"'.format(entur_api.DEFAULT_STOPID))\n",
    "response = requests.post(URL, headers=headers, json={'query': query})\n",
    "response.raise_for_status()"
   ]
  },
  {
   "cell_type": "code",
   "execution_count": 11,
   "metadata": {},
   "outputs": [
    {
     "data": {
      "text/plain": [
       "[{'quay': {'id': 'NSR:Quay:10949', 'description': 'Retning sentrum'},\n",
       "  'expectedArrivalTime': '2019-03-30T18:17:09+0100',\n",
       "  'actualArrivalTime': None,\n",
       "  'expectedDepartureTime': '2019-03-30T18:17:09+0100',\n",
       "  'actualDepartureTime': None,\n",
       "  'realtime': True,\n",
       "  'realtimeState': 'updated',\n",
       "  'destinationDisplay': {'frontText': 'Kolsås'},\n",
       "  'serviceJourney': {'line': {'publicCode': '3',\n",
       "    'presentation': {'colour': 'EC700C', 'textColour': 'FFFFFF'}}}},\n",
       " {'quay': {'id': 'NSR:Quay:10948', 'description': 'Retning Mortensrud'},\n",
       "  'expectedArrivalTime': '2019-03-30T18:22:00+0100',\n",
       "  'actualArrivalTime': None,\n",
       "  'expectedDepartureTime': '2019-03-30T18:22:00+0100',\n",
       "  'actualDepartureTime': None,\n",
       "  'realtime': False,\n",
       "  'realtimeState': 'scheduled',\n",
       "  'destinationDisplay': {'frontText': 'Mortensrud'},\n",
       "  'serviceJourney': {'line': {'publicCode': '3',\n",
       "    'presentation': {'colour': 'EC700C', 'textColour': 'FFFFFF'}}}},\n",
       " {'quay': {'id': 'NSR:Quay:10948', 'description': 'Retning Mortensrud'},\n",
       "  'expectedArrivalTime': '2019-03-30T18:28:12+0100',\n",
       "  'actualArrivalTime': None,\n",
       "  'expectedDepartureTime': '2019-03-30T18:28:12+0100',\n",
       "  'actualDepartureTime': None,\n",
       "  'realtime': True,\n",
       "  'realtimeState': 'updated',\n",
       "  'destinationDisplay': {'frontText': 'Mortensrud'},\n",
       "  'serviceJourney': {'line': {'publicCode': '3',\n",
       "    'presentation': {'colour': 'EC700C', 'textColour': 'FFFFFF'}}}},\n",
       " {'quay': {'id': 'NSR:Quay:10949', 'description': 'Retning sentrum'},\n",
       "  'expectedArrivalTime': '2019-03-30T18:29:54+0100',\n",
       "  'actualArrivalTime': None,\n",
       "  'expectedDepartureTime': '2019-03-30T18:29:54+0100',\n",
       "  'actualDepartureTime': None,\n",
       "  'realtime': True,\n",
       "  'realtimeState': 'updated',\n",
       "  'destinationDisplay': {'frontText': 'Kolsås'},\n",
       "  'serviceJourney': {'line': {'publicCode': '3',\n",
       "    'presentation': {'colour': 'EC700C', 'textColour': 'FFFFFF'}}}},\n",
       " {'quay': {'id': 'NSR:Quay:10948', 'description': 'Retning Mortensrud'},\n",
       "  'expectedArrivalTime': '2019-03-30T18:37:00+0100',\n",
       "  'actualArrivalTime': None,\n",
       "  'expectedDepartureTime': '2019-03-30T18:37:00+0100',\n",
       "  'actualDepartureTime': None,\n",
       "  'realtime': False,\n",
       "  'realtimeState': 'scheduled',\n",
       "  'destinationDisplay': {'frontText': 'Mortensrud'},\n",
       "  'serviceJourney': {'line': {'publicCode': '3',\n",
       "    'presentation': {'colour': 'EC700C', 'textColour': 'FFFFFF'}}}},\n",
       " {'quay': {'id': 'NSR:Quay:10948', 'description': 'Retning Mortensrud'},\n",
       "  'expectedArrivalTime': '2019-03-30T18:43:12+0100',\n",
       "  'actualArrivalTime': None,\n",
       "  'expectedDepartureTime': '2019-03-30T18:43:12+0100',\n",
       "  'actualDepartureTime': None,\n",
       "  'realtime': True,\n",
       "  'realtimeState': 'updated',\n",
       "  'destinationDisplay': {'frontText': 'Mortensrud'},\n",
       "  'serviceJourney': {'line': {'publicCode': '3',\n",
       "    'presentation': {'colour': 'EC700C', 'textColour': 'FFFFFF'}}}},\n",
       " {'quay': {'id': 'NSR:Quay:10949', 'description': 'Retning sentrum'},\n",
       "  'expectedArrivalTime': '2019-03-30T18:44:54+0100',\n",
       "  'actualArrivalTime': None,\n",
       "  'expectedDepartureTime': '2019-03-30T18:44:54+0100',\n",
       "  'actualDepartureTime': None,\n",
       "  'realtime': True,\n",
       "  'realtimeState': 'updated',\n",
       "  'destinationDisplay': {'frontText': 'Kolsås'},\n",
       "  'serviceJourney': {'line': {'publicCode': '3',\n",
       "    'presentation': {'colour': 'EC700C', 'textColour': 'FFFFFF'}}}},\n",
       " {'quay': {'id': 'NSR:Quay:10948', 'description': 'Retning Mortensrud'},\n",
       "  'expectedArrivalTime': '2019-03-30T18:58:12+0100',\n",
       "  'actualArrivalTime': None,\n",
       "  'expectedDepartureTime': '2019-03-30T18:58:12+0100',\n",
       "  'actualDepartureTime': None,\n",
       "  'realtime': True,\n",
       "  'realtimeState': 'updated',\n",
       "  'destinationDisplay': {'frontText': 'Mortensrud'},\n",
       "  'serviceJourney': {'line': {'publicCode': '3',\n",
       "    'presentation': {'colour': 'EC700C', 'textColour': 'FFFFFF'}}}},\n",
       " {'quay': {'id': 'NSR:Quay:10949', 'description': 'Retning sentrum'},\n",
       "  'expectedArrivalTime': '2019-03-30T18:59:54+0100',\n",
       "  'actualArrivalTime': None,\n",
       "  'expectedDepartureTime': '2019-03-30T18:59:54+0100',\n",
       "  'actualDepartureTime': None,\n",
       "  'realtime': True,\n",
       "  'realtimeState': 'updated',\n",
       "  'destinationDisplay': {'frontText': 'Kolsås'},\n",
       "  'serviceJourney': {'line': {'publicCode': '3',\n",
       "    'presentation': {'colour': 'EC700C', 'textColour': 'FFFFFF'}}}},\n",
       " {'quay': {'id': 'NSR:Quay:10948', 'description': 'Retning Mortensrud'},\n",
       "  'expectedArrivalTime': '2019-03-30T19:13:12+0100',\n",
       "  'actualArrivalTime': None,\n",
       "  'expectedDepartureTime': '2019-03-30T19:13:12+0100',\n",
       "  'actualDepartureTime': None,\n",
       "  'realtime': True,\n",
       "  'realtimeState': 'updated',\n",
       "  'destinationDisplay': {'frontText': 'Mortensrud'},\n",
       "  'serviceJourney': {'line': {'publicCode': '3',\n",
       "    'presentation': {'colour': 'EC700C', 'textColour': 'FFFFFF'}}}}]"
      ]
     },
     "execution_count": 11,
     "metadata": {},
     "output_type": "execute_result"
    }
   ],
   "source": [
    "response.json()['data']['stopPlace']['estimatedCalls']"
   ]
  },
  {
   "cell_type": "code",
   "execution_count": 33,
   "metadata": {},
   "outputs": [
    {
     "data": {
      "text/plain": [
       "['Kjører som normalt']"
      ]
     },
     "execution_count": 33,
     "metadata": {},
     "output_type": "execute_result"
    }
   ],
   "source": [
    "entur_api.get_situations()"
   ]
  },
  {
   "cell_type": "code",
   "execution_count": 21,
   "metadata": {},
   "outputs": [],
   "source": [
    "s = j['data']['line']['situations'][0]"
   ]
  },
  {
   "cell_type": "code",
   "execution_count": 24,
   "metadata": {},
   "outputs": [
    {
     "data": {
      "text/plain": [
       "{'startTime': '2019-03-30T13:08:00+0100',\n",
       " 'endTime': '2019-03-30T16:00:00+0100'}"
      ]
     },
     "execution_count": 24,
     "metadata": {},
     "output_type": "execute_result"
    }
   ],
   "source": [
    "s['validityPeriod']"
   ]
  },
  {
   "cell_type": "code",
   "execution_count": 30,
   "metadata": {},
   "outputs": [
    {
     "data": {
      "text/plain": [
       "'Forsinkelser forventes'"
      ]
     },
     "execution_count": 30,
     "metadata": {},
     "output_type": "execute_result"
    }
   ],
   "source": [
    "s['summary'][0]['value']"
   ]
  },
  {
   "cell_type": "code",
   "execution_count": null,
   "metadata": {},
   "outputs": [],
   "source": []
  },
  {
   "cell_type": "code",
   "execution_count": null,
   "metadata": {},
   "outputs": [],
   "source": []
  },
  {
   "cell_type": "code",
   "execution_count": null,
   "metadata": {},
   "outputs": [],
   "source": []
  },
  {
   "cell_type": "code",
   "execution_count": null,
   "metadata": {},
   "outputs": [],
   "source": []
  }
 ],
 "metadata": {
  "kernelspec": {
   "display_name": "Python 3",
   "language": "python",
   "name": "python3"
  },
  "language_info": {
   "codemirror_mode": {
    "name": "ipython",
    "version": 3
   },
   "file_extension": ".py",
   "mimetype": "text/x-python",
   "name": "python",
   "nbconvert_exporter": "python",
   "pygments_lexer": "ipython3",
   "version": "3.7.3"
  },
  "toc": {
   "base_numbering": 1,
   "nav_menu": {},
   "number_sections": true,
   "sideBar": true,
   "skip_h1_title": false,
   "title_cell": "Table of Contents",
   "title_sidebar": "Contents",
   "toc_cell": false,
   "toc_position": {},
   "toc_section_display": true,
   "toc_window_display": false
  }
 },
 "nbformat": 4,
 "nbformat_minor": 2
}
