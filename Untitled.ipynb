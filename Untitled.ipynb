{
 "cells": [
  {
   "cell_type": "code",
   "execution_count": 1,
   "metadata": {
    "ExecuteTime": {
     "end_time": "2019-03-26T17:28:54.153347Z",
     "start_time": "2019-03-26T17:28:54.093398Z"
    }
   },
   "outputs": [],
   "source": [
    "%load_ext autoreload\n",
    "%autoreload 2"
   ]
  },
  {
   "cell_type": "code",
   "execution_count": 4,
   "metadata": {},
   "outputs": [],
   "source": [
    "import rutertider"
   ]
  },
  {
   "cell_type": "code",
   "execution_count": 5,
   "metadata": {},
   "outputs": [
    {
     "data": {
      "text/plain": [
       "['__builtins__',\n",
       " '__cached__',\n",
       " '__doc__',\n",
       " '__file__',\n",
       " '__loader__',\n",
       " '__name__',\n",
       " '__package__',\n",
       " '__path__',\n",
       " '__spec__',\n",
       " 'app',\n",
       " 'create_ruter_departures',\n",
       " 'departure_table',\n",
       " 'deviations',\n",
       " 'entur_api',\n",
       " 'flask']"
      ]
     },
     "execution_count": 5,
     "metadata": {},
     "output_type": "execute_result"
    }
   ],
   "source": [
    "dir(rutertider)"
   ]
  },
  {
   "cell_type": "code",
   "execution_count": 36,
   "metadata": {},
   "outputs": [
    {
     "data": {
      "text/plain": [
       "['Endringer for T-banen i påsken',\n",
       " 'Stengt for T-bane mellom Majorstuen og Grønland']"
      ]
     },
     "execution_count": 36,
     "metadata": {},
     "output_type": "execute_result"
    }
   ],
   "source": [
    "rutertider.entur_api.get_situations()"
   ]
  },
  {
   "cell_type": "code",
   "execution_count": 20,
   "metadata": {},
   "outputs": [
    {
     "data": {
      "text/plain": [
       "'Stengt for T-bane mellom Majorstuen og Grønland'"
      ]
     },
     "execution_count": 20,
     "metadata": {},
     "output_type": "execute_result"
    }
   ],
   "source": [
    "rutertider.deviations()"
   ]
  },
  {
   "cell_type": "code",
   "execution_count": null,
   "metadata": {},
   "outputs": [],
   "source": []
  },
  {
   "cell_type": "code",
   "execution_count": 4,
   "metadata": {
    "ExecuteTime": {
     "end_time": "2019-03-26T17:28:55.945051Z",
     "start_time": "2019-03-26T17:28:55.912898Z"
    }
   },
   "outputs": [],
   "source": [
    "from flaskr import ruter_api"
   ]
  },
  {
   "cell_type": "code",
   "execution_count": 5,
   "metadata": {
    "ExecuteTime": {
     "end_time": "2019-03-26T17:29:34.299563Z",
     "start_time": "2019-03-26T17:29:33.943972Z"
    }
   },
   "outputs": [
    {
     "data": {
      "text/plain": [
       "[{'line_name': '3',\n",
       "  'line_color': 'EC700C',\n",
       "  'destination': 'Kolsås',\n",
       "  'departure_time': '2 min'},\n",
       " {'line_name': '3',\n",
       "  'line_color': 'EC700C',\n",
       "  'destination': 'Stortinget',\n",
       "  'departure_time': '6 min'},\n",
       " {'line_name': '3',\n",
       "  'line_color': 'EC700C',\n",
       "  'destination': 'Mortensrud',\n",
       "  'departure_time': '8 min'},\n",
       " {'line_name': '3',\n",
       "  'line_color': 'EC700C',\n",
       "  'destination': 'Kolsås',\n",
       "  'departure_time': '15 min'},\n",
       " {'line_name': '3',\n",
       "  'line_color': 'EC700C',\n",
       "  'destination': 'Mortensrud',\n",
       "  'departure_time': '16 min'},\n",
       " {'line_name': '3',\n",
       "  'line_color': 'EC700C',\n",
       "  'destination': 'Avløs',\n",
       "  'departure_time': '21 min'},\n",
       " {'line_name': '3',\n",
       "  'line_color': 'EC700C',\n",
       "  'destination': 'Mortensrud',\n",
       "  'departure_time': '23 min'},\n",
       " {'line_name': '3',\n",
       "  'line_color': 'EC700C',\n",
       "  'destination': 'Mortensrud',\n",
       "  'departure_time': '30 min'},\n",
       " {'line_name': '3',\n",
       "  'line_color': 'EC700C',\n",
       "  'destination': 'Kolsås',\n",
       "  'departure_time': '30 min'},\n",
       " {'line_name': '3',\n",
       "  'line_color': 'EC700C',\n",
       "  'destination': 'Avløs',\n",
       "  'departure_time': '19:05'},\n",
       " {'line_name': '3',\n",
       "  'line_color': 'EC700C',\n",
       "  'destination': 'Mortensrud',\n",
       "  'departure_time': '19:07'},\n",
       " {'line_name': '3',\n",
       "  'line_color': 'EC700C',\n",
       "  'destination': 'Mortensrud',\n",
       "  'departure_time': '19:14'},\n",
       " {'line_name': '3',\n",
       "  'line_color': 'EC700C',\n",
       "  'destination': 'Kolsås',\n",
       "  'departure_time': '19:14'},\n",
       " {'line_name': '3',\n",
       "  'line_color': 'EC700C',\n",
       "  'destination': 'Mortensrud',\n",
       "  'departure_time': '19:22'},\n",
       " {'line_name': '3',\n",
       "  'line_color': 'EC700C',\n",
       "  'destination': 'Mortensrud',\n",
       "  'departure_time': '19:28'},\n",
       " {'line_name': '3',\n",
       "  'line_color': 'EC700C',\n",
       "  'destination': 'Kolsås',\n",
       "  'departure_time': '19:30'},\n",
       " {'line_name': '3',\n",
       "  'line_color': 'EC700C',\n",
       "  'destination': 'Mortensrud',\n",
       "  'departure_time': '19:37'},\n",
       " {'line_name': '3',\n",
       "  'line_color': 'EC700C',\n",
       "  'destination': 'Mortensrud',\n",
       "  'departure_time': '19:43'},\n",
       " {'line_name': '3',\n",
       "  'line_color': 'EC700C',\n",
       "  'destination': 'Kolsås',\n",
       "  'departure_time': '19:45'},\n",
       " {'line_name': '3',\n",
       "  'line_color': 'EC700C',\n",
       "  'destination': 'Mortensrud',\n",
       "  'departure_time': '19:52'},\n",
       " {'line_name': '3',\n",
       "  'line_color': 'EC700C',\n",
       "  'destination': 'Mortensrud',\n",
       "  'departure_time': '19:58'},\n",
       " {'line_name': '3',\n",
       "  'line_color': 'EC700C',\n",
       "  'destination': 'Kolsås',\n",
       "  'departure_time': '20:00'},\n",
       " {'line_name': '3',\n",
       "  'line_color': 'EC700C',\n",
       "  'destination': 'Mortensrud',\n",
       "  'departure_time': '20:07'},\n",
       " {'line_name': '3',\n",
       "  'line_color': 'EC700C',\n",
       "  'destination': 'Mortensrud',\n",
       "  'departure_time': '20:13'},\n",
       " {'line_name': '3',\n",
       "  'line_color': 'EC700C',\n",
       "  'destination': 'Kolsås',\n",
       "  'departure_time': '20:15'},\n",
       " {'line_name': '3',\n",
       "  'line_color': 'EC700C',\n",
       "  'destination': 'Mortensrud',\n",
       "  'departure_time': '20:28'}]"
      ]
     },
     "execution_count": 5,
     "metadata": {},
     "output_type": "execute_result"
    }
   ],
   "source": [
    "ruter_api.get_ruter_departures()"
   ]
  },
  {
   "cell_type": "code",
   "execution_count": 6,
   "metadata": {
    "ExecuteTime": {
     "end_time": "2019-03-26T17:33:25.922733Z",
     "start_time": "2019-03-26T17:33:25.808060Z"
    }
   },
   "outputs": [],
   "source": [
    "import dateutil"
   ]
  },
  {
   "cell_type": "code",
   "execution_count": 7,
   "metadata": {
    "ExecuteTime": {
     "end_time": "2019-03-26T17:33:30.386956Z",
     "start_time": "2019-03-26T17:33:30.359923Z"
    }
   },
   "outputs": [
    {
     "data": {
      "text/plain": [
       "<module 'dateutil.parser' from '/Users/marhoy/miniconda3/envs/anaconda/lib/python3.6/site-packages/dateutil/parser/__init__.py'>"
      ]
     },
     "execution_count": 7,
     "metadata": {},
     "output_type": "execute_result"
    }
   ],
   "source": [
    "dateutil.parser"
   ]
  },
  {
   "cell_type": "code",
   "execution_count": 8,
   "metadata": {
    "ExecuteTime": {
     "end_time": "2019-03-26T17:46:42.570768Z",
     "start_time": "2019-03-26T17:46:42.502218Z"
    }
   },
   "outputs": [],
   "source": [
    "import requests"
   ]
  },
  {
   "cell_type": "code",
   "execution_count": 9,
   "metadata": {
    "ExecuteTime": {
     "end_time": "2019-03-26T17:47:02.522872Z",
     "start_time": "2019-03-26T17:47:02.336621Z"
    }
   },
   "outputs": [],
   "source": [
    "r = requests.get(\"http://reisapi.ruter.no/StopVisit/GetDepartures/3011310\")"
   ]
  },
  {
   "cell_type": "code",
   "execution_count": 12,
   "metadata": {
    "ExecuteTime": {
     "end_time": "2019-03-26T17:47:21.770618Z",
     "start_time": "2019-03-26T17:47:21.741195Z"
    }
   },
   "outputs": [],
   "source": [
    "r.raise_for_status()"
   ]
  },
  {
   "cell_type": "code",
   "execution_count": null,
   "metadata": {},
   "outputs": [],
   "source": []
  }
 ],
 "metadata": {
  "kernelspec": {
   "display_name": "Python 3",
   "language": "python",
   "name": "python3"
  },
  "language_info": {
   "codemirror_mode": {
    "name": "ipython",
    "version": 3
   },
   "file_extension": ".py",
   "mimetype": "text/x-python",
   "name": "python",
   "nbconvert_exporter": "python",
   "pygments_lexer": "ipython3",
   "version": "3.7.3"
  },
  "toc": {
   "base_numbering": 1,
   "nav_menu": {},
   "number_sections": true,
   "sideBar": true,
   "skip_h1_title": false,
   "title_cell": "Table of Contents",
   "title_sidebar": "Contents",
   "toc_cell": false,
   "toc_position": {},
   "toc_section_display": true,
   "toc_window_display": false
  }
 },
 "nbformat": 4,
 "nbformat_minor": 2
}
